{
 "cells": [
  {
   "cell_type": "code",
   "execution_count": 15,
   "id": "c2372898",
   "metadata": {},
   "outputs": [],
   "source": [
    "import torch\n",
    "import torch.nn as nn\n",
    "import torch.nn.functional as F\n",
    "import optuna\n",
    "import matplotlib.pyplot as plt\n",
    "from torch.utils.data import DataLoader, TensorDataset\n",
    "import pandas as pd\n",
    "import numpy as np\n",
    "import QuantLib as ql\n",
    "import mibian\n",
    "from sklearn.model_selection import train_test_split\n",
    "from sklearn.preprocessing import StandardScaler, MinMaxScaler\n",
    "from sklearn.metrics import mean_squared_error\n",
    "from copy import deepcopy\n",
    "from keras.regularizers import l2\n",
    "from tensorflow.keras.models import Sequential\n",
    "from tensorflow.keras.layers import Conv1D, MaxPooling1D, Flatten, DenseConv1D, MaxPooling1D, LSTM, Bidirectional, GRU, Flatten, Dense, TimeDistributed, Dropout, BatchNormalization, Bidirectional\n",
    "from tensorflow.keras.optimizers import Adam\n",
    "from ta import add_all_ta_features\n",
    "from ta.volatility import BollingerBands\n",
    "from ta.momentum import RSIIndicator\n",
    "from tensorflow import keras\n",
    "from math import sqrt\n",
    "keras.utils.set_random_seed(812)\n",
    "from sklearn.model_selection import KFold\n",
    "from tensorflow.keras.callbacks import EarlyStopping, ModelCheckpoint\n",
    "from scikeras.wrappers import KerasRegressor"
   ]
  },
  {
   "cell_type": "markdown",
   "id": "c13d4cae",
   "metadata": {},
   "source": [
    "# Data Preprocessing"
   ]
  },
  {
   "cell_type": "code",
   "execution_count": 16,
   "id": "e244ceb8",
   "metadata": {},
   "outputs": [],
   "source": [
    "# Read the data\n",
    "df = pd.read_csv('data.csv')"
   ]
  },
  {
   "cell_type": "markdown",
   "id": "6c988473",
   "metadata": {},
   "source": [
    "# TSLA data Preprocessing"
   ]
  },
  {
   "cell_type": "code",
   "execution_count": 17,
   "id": "b2ccaea1",
   "metadata": {},
   "outputs": [
    {
     "name": "stderr",
     "output_type": "stream",
     "text": [
      "/var/folders/j4/4m0tbkvs42v3qk8nmtg75bkm0000gn/T/ipykernel_37918/2518326361.py:4: SettingWithCopyWarning: \n",
      "A value is trying to be set on a copy of a slice from a DataFrame.\n",
      "Try using .loc[row_indexer,col_indexer] = value instead\n",
      "\n",
      "See the caveats in the documentation: https://pandas.pydata.org/pandas-docs/stable/user_guide/indexing.html#returning-a-view-versus-a-copy\n",
      "  df_TSLA['SMA'] = df_TSLA['UNDERLYING_LAST'].rolling(window=14).mean()\n",
      "/var/folders/j4/4m0tbkvs42v3qk8nmtg75bkm0000gn/T/ipykernel_37918/2518326361.py:7: SettingWithCopyWarning: \n",
      "A value is trying to be set on a copy of a slice from a DataFrame.\n",
      "Try using .loc[row_indexer,col_indexer] = value instead\n",
      "\n",
      "See the caveats in the documentation: https://pandas.pydata.org/pandas-docs/stable/user_guide/indexing.html#returning-a-view-versus-a-copy\n",
      "  df_TSLA['EMA'] = df_TSLA['UNDERLYING_LAST'].ewm(span=14, adjust=False).mean()\n",
      "/var/folders/j4/4m0tbkvs42v3qk8nmtg75bkm0000gn/T/ipykernel_37918/2518326361.py:10: SettingWithCopyWarning: \n",
      "A value is trying to be set on a copy of a slice from a DataFrame.\n",
      "Try using .loc[row_indexer,col_indexer] = value instead\n",
      "\n",
      "See the caveats in the documentation: https://pandas.pydata.org/pandas-docs/stable/user_guide/indexing.html#returning-a-view-versus-a-copy\n",
      "  df_TSLA['RSI'] = RSIIndicator(close=df_TSLA['UNDERLYING_LAST'], window=14).rsi()\n",
      "/var/folders/j4/4m0tbkvs42v3qk8nmtg75bkm0000gn/T/ipykernel_37918/2518326361.py:14: SettingWithCopyWarning: \n",
      "A value is trying to be set on a copy of a slice from a DataFrame.\n",
      "Try using .loc[row_indexer,col_indexer] = value instead\n",
      "\n",
      "See the caveats in the documentation: https://pandas.pydata.org/pandas-docs/stable/user_guide/indexing.html#returning-a-view-versus-a-copy\n",
      "  df_TSLA['bb_bbm'] = indicator_bb.bollinger_mavg()\n",
      "/var/folders/j4/4m0tbkvs42v3qk8nmtg75bkm0000gn/T/ipykernel_37918/2518326361.py:15: SettingWithCopyWarning: \n",
      "A value is trying to be set on a copy of a slice from a DataFrame.\n",
      "Try using .loc[row_indexer,col_indexer] = value instead\n",
      "\n",
      "See the caveats in the documentation: https://pandas.pydata.org/pandas-docs/stable/user_guide/indexing.html#returning-a-view-versus-a-copy\n",
      "  df_TSLA['bb_bbh'] = indicator_bb.bollinger_hband()\n",
      "/var/folders/j4/4m0tbkvs42v3qk8nmtg75bkm0000gn/T/ipykernel_37918/2518326361.py:16: SettingWithCopyWarning: \n",
      "A value is trying to be set on a copy of a slice from a DataFrame.\n",
      "Try using .loc[row_indexer,col_indexer] = value instead\n",
      "\n",
      "See the caveats in the documentation: https://pandas.pydata.org/pandas-docs/stable/user_guide/indexing.html#returning-a-view-versus-a-copy\n",
      "  df_TSLA['bb_bbl'] = indicator_bb.bollinger_lband()\n",
      "/var/folders/j4/4m0tbkvs42v3qk8nmtg75bkm0000gn/T/ipykernel_37918/2518326361.py:19: SettingWithCopyWarning: \n",
      "A value is trying to be set on a copy of a slice from a DataFrame.\n",
      "Try using .loc[row_indexer,col_indexer] = value instead\n",
      "\n",
      "See the caveats in the documentation: https://pandas.pydata.org/pandas-docs/stable/user_guide/indexing.html#returning-a-view-versus-a-copy\n",
      "  df_TSLA['realized_vol'] = df_TSLA['UNDERLYING_LAST'].pct_change().rolling(window=14).std() * np.sqrt(252)\n",
      "/var/folders/j4/4m0tbkvs42v3qk8nmtg75bkm0000gn/T/ipykernel_37918/2518326361.py:23: SettingWithCopyWarning: \n",
      "A value is trying to be set on a copy of a slice from a DataFrame.\n",
      "Try using .loc[row_indexer,col_indexer] = value instead\n",
      "\n",
      "See the caveats in the documentation: https://pandas.pydata.org/pandas-docs/stable/user_guide/indexing.html#returning-a-view-versus-a-copy\n",
      "  df_TSLA['C_LAST_lag1'] = df_TSLA['C_LAST'].shift(1)\n",
      "/var/folders/j4/4m0tbkvs42v3qk8nmtg75bkm0000gn/T/ipykernel_37918/2518326361.py:25: SettingWithCopyWarning: \n",
      "A value is trying to be set on a copy of a slice from a DataFrame.\n",
      "Try using .loc[row_indexer,col_indexer] = value instead\n",
      "\n",
      "See the caveats in the documentation: https://pandas.pydata.org/pandas-docs/stable/user_guide/indexing.html#returning-a-view-versus-a-copy\n",
      "  df_TSLA['C_IV_lag1'] = df_TSLA['C_IV'].shift(1)\n"
     ]
    }
   ],
   "source": [
    "df_TSLA = df[df['Stock_TSLA'] == 1.0]\n",
    "\n",
    "# Calculate Simple Moving Average\n",
    "df_TSLA['SMA'] = df_TSLA['UNDERLYING_LAST'].rolling(window=14).mean()\n",
    "\n",
    "# Calculate Exponential Moving Average\n",
    "df_TSLA['EMA'] = df_TSLA['UNDERLYING_LAST'].ewm(span=14, adjust=False).mean()\n",
    "\n",
    "# Calculate RSI\n",
    "df_TSLA['RSI'] = RSIIndicator(close=df_TSLA['UNDERLYING_LAST'], window=14).rsi()\n",
    "\n",
    "# Calculate Bollinger Bands\n",
    "indicator_bb = BollingerBands(close=df_TSLA['UNDERLYING_LAST'], window=20, window_dev=2)\n",
    "df_TSLA['bb_bbm'] = indicator_bb.bollinger_mavg()\n",
    "df_TSLA['bb_bbh'] = indicator_bb.bollinger_hband()\n",
    "df_TSLA['bb_bbl'] = indicator_bb.bollinger_lband()\n",
    "\n",
    "# Realized Volatility\n",
    "df_TSLA['realized_vol'] = df_TSLA['UNDERLYING_LAST'].pct_change().rolling(window=14).std() * np.sqrt(252)\n",
    "\n",
    "\n",
    "# For lagged features of the target variable, C_LAST:\n",
    "df_TSLA['C_LAST_lag1'] = df_TSLA['C_LAST'].shift(1)\n",
    "# For other variables, you could do the same:\n",
    "df_TSLA['C_IV_lag1'] = df_TSLA['C_IV'].shift(1)\n",
    "\n",
    "\n",
    "df_TSLA = df_TSLA[['C_IV_lag1','C_LAST_lag1','bb_bbm','bb_bbh','bb_bbl','SMA','EMA','RSI', 'realized_vol','UNDERLYING_LAST', 'STRIKE', 'DTE', 'C_IV', 'C_DELTA', 'C_GAMMA', 'C_VEGA', 'C_THETA', 'C_RHO', 'C_VOLUME', 'STRIKE_DISTANCE', 'STRIKE_DISTANCE_PCT', 'interest rate', 'dividend_rate','C_LAST']]\n",
    "df_TSLA = df_TSLA.dropna()\n",
    "\n",
    "# Find indices where C_IV or DTE is zero\n",
    "indices_to_remove = df_TSLA[(df_TSLA['C_IV'] == 0) | (df_TSLA['DTE'] == 0)].index\n",
    "\n",
    "# Drop these indices from the DataFrame\n",
    "df_TSLA = df_TSLA.drop(indices_to_remove)\n",
    "\n",
    "# Reset the index\n",
    "df_TSLA = df_TSLA.reset_index(drop=True)"
   ]
  },
  {
   "cell_type": "markdown",
   "id": "60062d65",
   "metadata": {},
   "source": [
    "# AAPL data Preprocessing"
   ]
  },
  {
   "cell_type": "code",
   "execution_count": 225,
   "id": "e8af39b3",
   "metadata": {},
   "outputs": [
    {
     "name": "stderr",
     "output_type": "stream",
     "text": [
      "/var/folders/j4/4m0tbkvs42v3qk8nmtg75bkm0000gn/T/ipykernel_37918/2192086726.py:4: SettingWithCopyWarning: \n",
      "A value is trying to be set on a copy of a slice from a DataFrame.\n",
      "Try using .loc[row_indexer,col_indexer] = value instead\n",
      "\n",
      "See the caveats in the documentation: https://pandas.pydata.org/pandas-docs/stable/user_guide/indexing.html#returning-a-view-versus-a-copy\n",
      "  df_AAPL['SMA'] = df_AAPL['UNDERLYING_LAST'].rolling(window=14).mean()\n",
      "/var/folders/j4/4m0tbkvs42v3qk8nmtg75bkm0000gn/T/ipykernel_37918/2192086726.py:7: SettingWithCopyWarning: \n",
      "A value is trying to be set on a copy of a slice from a DataFrame.\n",
      "Try using .loc[row_indexer,col_indexer] = value instead\n",
      "\n",
      "See the caveats in the documentation: https://pandas.pydata.org/pandas-docs/stable/user_guide/indexing.html#returning-a-view-versus-a-copy\n",
      "  df_AAPL['EMA'] = df_AAPL['UNDERLYING_LAST'].ewm(span=14, adjust=False).mean()\n",
      "/var/folders/j4/4m0tbkvs42v3qk8nmtg75bkm0000gn/T/ipykernel_37918/2192086726.py:10: SettingWithCopyWarning: \n",
      "A value is trying to be set on a copy of a slice from a DataFrame.\n",
      "Try using .loc[row_indexer,col_indexer] = value instead\n",
      "\n",
      "See the caveats in the documentation: https://pandas.pydata.org/pandas-docs/stable/user_guide/indexing.html#returning-a-view-versus-a-copy\n",
      "  df_AAPL['RSI'] = RSIIndicator(close=df_AAPL['UNDERLYING_LAST'], window=14).rsi()\n",
      "/var/folders/j4/4m0tbkvs42v3qk8nmtg75bkm0000gn/T/ipykernel_37918/2192086726.py:14: SettingWithCopyWarning: \n",
      "A value is trying to be set on a copy of a slice from a DataFrame.\n",
      "Try using .loc[row_indexer,col_indexer] = value instead\n",
      "\n",
      "See the caveats in the documentation: https://pandas.pydata.org/pandas-docs/stable/user_guide/indexing.html#returning-a-view-versus-a-copy\n",
      "  df_AAPL['bb_bbm'] = indicator_bb.bollinger_mavg()\n",
      "/var/folders/j4/4m0tbkvs42v3qk8nmtg75bkm0000gn/T/ipykernel_37918/2192086726.py:15: SettingWithCopyWarning: \n",
      "A value is trying to be set on a copy of a slice from a DataFrame.\n",
      "Try using .loc[row_indexer,col_indexer] = value instead\n",
      "\n",
      "See the caveats in the documentation: https://pandas.pydata.org/pandas-docs/stable/user_guide/indexing.html#returning-a-view-versus-a-copy\n",
      "  df_AAPL['bb_bbh'] = indicator_bb.bollinger_hband()\n",
      "/var/folders/j4/4m0tbkvs42v3qk8nmtg75bkm0000gn/T/ipykernel_37918/2192086726.py:16: SettingWithCopyWarning: \n",
      "A value is trying to be set on a copy of a slice from a DataFrame.\n",
      "Try using .loc[row_indexer,col_indexer] = value instead\n",
      "\n",
      "See the caveats in the documentation: https://pandas.pydata.org/pandas-docs/stable/user_guide/indexing.html#returning-a-view-versus-a-copy\n",
      "  df_AAPL['bb_bbl'] = indicator_bb.bollinger_lband()\n",
      "/var/folders/j4/4m0tbkvs42v3qk8nmtg75bkm0000gn/T/ipykernel_37918/2192086726.py:19: SettingWithCopyWarning: \n",
      "A value is trying to be set on a copy of a slice from a DataFrame.\n",
      "Try using .loc[row_indexer,col_indexer] = value instead\n",
      "\n",
      "See the caveats in the documentation: https://pandas.pydata.org/pandas-docs/stable/user_guide/indexing.html#returning-a-view-versus-a-copy\n",
      "  df_AAPL['realized_vol'] = df_AAPL['UNDERLYING_LAST'].pct_change().rolling(window=14).std() * np.sqrt(252)\n",
      "/var/folders/j4/4m0tbkvs42v3qk8nmtg75bkm0000gn/T/ipykernel_37918/2192086726.py:23: SettingWithCopyWarning: \n",
      "A value is trying to be set on a copy of a slice from a DataFrame.\n",
      "Try using .loc[row_indexer,col_indexer] = value instead\n",
      "\n",
      "See the caveats in the documentation: https://pandas.pydata.org/pandas-docs/stable/user_guide/indexing.html#returning-a-view-versus-a-copy\n",
      "  df_AAPL['C_LAST_lag1'] = df_AAPL['C_LAST'].shift(1)\n",
      "/var/folders/j4/4m0tbkvs42v3qk8nmtg75bkm0000gn/T/ipykernel_37918/2192086726.py:25: SettingWithCopyWarning: \n",
      "A value is trying to be set on a copy of a slice from a DataFrame.\n",
      "Try using .loc[row_indexer,col_indexer] = value instead\n",
      "\n",
      "See the caveats in the documentation: https://pandas.pydata.org/pandas-docs/stable/user_guide/indexing.html#returning-a-view-versus-a-copy\n",
      "  df_AAPL['C_IV_lag1'] = df_AAPL['C_IV'].shift(1)\n"
     ]
    }
   ],
   "source": [
    "df_AAPL = df[df['Stock_AAPL'] == 1.0]\n",
    "\n",
    "# Calculate Simple Moving Average\n",
    "df_AAPL['SMA'] = df_AAPL['UNDERLYING_LAST'].rolling(window=14).mean()\n",
    "\n",
    "# Calculate Exponential Moving Average\n",
    "df_AAPL['EMA'] = df_AAPL['UNDERLYING_LAST'].ewm(span=14, adjust=False).mean()\n",
    "\n",
    "# Calculate RSI\n",
    "df_AAPL['RSI'] = RSIIndicator(close=df_AAPL['UNDERLYING_LAST'], window=14).rsi()\n",
    "\n",
    "# Calculate Bollinger Bands\n",
    "indicator_bb = BollingerBands(close=df_AAPL['UNDERLYING_LAST'], window=20, window_dev=2)\n",
    "df_AAPL['bb_bbm'] = indicator_bb.bollinger_mavg()\n",
    "df_AAPL['bb_bbh'] = indicator_bb.bollinger_hband()\n",
    "df_AAPL['bb_bbl'] = indicator_bb.bollinger_lband()\n",
    "\n",
    "# Realized Volatility\n",
    "df_AAPL['realized_vol'] = df_AAPL['UNDERLYING_LAST'].pct_change().rolling(window=14).std() * np.sqrt(252)\n",
    "\n",
    "\n",
    "# For lagged features of the target variable, C_LAST:\n",
    "df_AAPL['C_LAST_lag1'] = df_AAPL['C_LAST'].shift(1)\n",
    "# For other variables, you could do the same:\n",
    "df_AAPL['C_IV_lag1'] = df_AAPL['C_IV'].shift(1)\n",
    "\n",
    "\n",
    "df_AAPL = df_AAPL[['C_IV_lag1','C_LAST_lag1','bb_bbm','bb_bbh','bb_bbl','SMA','EMA','RSI', 'realized_vol','UNDERLYING_LAST', 'STRIKE', 'DTE', 'C_IV', 'C_DELTA', 'C_GAMMA', 'C_VEGA', 'C_THETA', 'C_RHO', 'C_VOLUME', 'STRIKE_DISTANCE', 'STRIKE_DISTANCE_PCT', 'interest rate','dividend_rate', 'C_LAST']]\n",
    "df_AAPL = df_AAPL.dropna()\n",
    "\n",
    "# Find indices where C_IV or DTE is zero\n",
    "indices_to_remove = df_AAPL[(df_AAPL['C_IV'] == 0) | (df_AAPL['DTE'] == 0)].index\n",
    "\n",
    "# Drop these indices from the DataFrame\n",
    "df_AAPL = df_AAPL.drop(indices_to_remove)\n",
    "\n",
    "# Reset the index\n",
    "df_AAPL = df_AAPL.reset_index(drop=True)"
   ]
  },
  {
   "cell_type": "markdown",
   "id": "ca30d379",
   "metadata": {},
   "source": [
    "# NVDA data Preprocessing"
   ]
  },
  {
   "cell_type": "code",
   "execution_count": 226,
   "id": "9e0ac2aa",
   "metadata": {},
   "outputs": [
    {
     "name": "stderr",
     "output_type": "stream",
     "text": [
      "/var/folders/j4/4m0tbkvs42v3qk8nmtg75bkm0000gn/T/ipykernel_37918/1211373322.py:4: SettingWithCopyWarning: \n",
      "A value is trying to be set on a copy of a slice from a DataFrame.\n",
      "Try using .loc[row_indexer,col_indexer] = value instead\n",
      "\n",
      "See the caveats in the documentation: https://pandas.pydata.org/pandas-docs/stable/user_guide/indexing.html#returning-a-view-versus-a-copy\n",
      "  df_NVDA['SMA'] = df_NVDA['UNDERLYING_LAST'].rolling(window=14).mean()\n",
      "/var/folders/j4/4m0tbkvs42v3qk8nmtg75bkm0000gn/T/ipykernel_37918/1211373322.py:7: SettingWithCopyWarning: \n",
      "A value is trying to be set on a copy of a slice from a DataFrame.\n",
      "Try using .loc[row_indexer,col_indexer] = value instead\n",
      "\n",
      "See the caveats in the documentation: https://pandas.pydata.org/pandas-docs/stable/user_guide/indexing.html#returning-a-view-versus-a-copy\n",
      "  df_NVDA['EMA'] = df_NVDA['UNDERLYING_LAST'].ewm(span=14, adjust=False).mean()\n",
      "/var/folders/j4/4m0tbkvs42v3qk8nmtg75bkm0000gn/T/ipykernel_37918/1211373322.py:10: SettingWithCopyWarning: \n",
      "A value is trying to be set on a copy of a slice from a DataFrame.\n",
      "Try using .loc[row_indexer,col_indexer] = value instead\n",
      "\n",
      "See the caveats in the documentation: https://pandas.pydata.org/pandas-docs/stable/user_guide/indexing.html#returning-a-view-versus-a-copy\n",
      "  df_NVDA['RSI'] = RSIIndicator(close=df_NVDA['UNDERLYING_LAST'], window=14).rsi()\n",
      "/var/folders/j4/4m0tbkvs42v3qk8nmtg75bkm0000gn/T/ipykernel_37918/1211373322.py:14: SettingWithCopyWarning: \n",
      "A value is trying to be set on a copy of a slice from a DataFrame.\n",
      "Try using .loc[row_indexer,col_indexer] = value instead\n",
      "\n",
      "See the caveats in the documentation: https://pandas.pydata.org/pandas-docs/stable/user_guide/indexing.html#returning-a-view-versus-a-copy\n",
      "  df_NVDA['bb_bbm'] = indicator_bb.bollinger_mavg()\n",
      "/var/folders/j4/4m0tbkvs42v3qk8nmtg75bkm0000gn/T/ipykernel_37918/1211373322.py:15: SettingWithCopyWarning: \n",
      "A value is trying to be set on a copy of a slice from a DataFrame.\n",
      "Try using .loc[row_indexer,col_indexer] = value instead\n",
      "\n",
      "See the caveats in the documentation: https://pandas.pydata.org/pandas-docs/stable/user_guide/indexing.html#returning-a-view-versus-a-copy\n",
      "  df_NVDA['bb_bbh'] = indicator_bb.bollinger_hband()\n",
      "/var/folders/j4/4m0tbkvs42v3qk8nmtg75bkm0000gn/T/ipykernel_37918/1211373322.py:16: SettingWithCopyWarning: \n",
      "A value is trying to be set on a copy of a slice from a DataFrame.\n",
      "Try using .loc[row_indexer,col_indexer] = value instead\n",
      "\n",
      "See the caveats in the documentation: https://pandas.pydata.org/pandas-docs/stable/user_guide/indexing.html#returning-a-view-versus-a-copy\n",
      "  df_NVDA['bb_bbl'] = indicator_bb.bollinger_lband()\n",
      "/var/folders/j4/4m0tbkvs42v3qk8nmtg75bkm0000gn/T/ipykernel_37918/1211373322.py:19: SettingWithCopyWarning: \n",
      "A value is trying to be set on a copy of a slice from a DataFrame.\n",
      "Try using .loc[row_indexer,col_indexer] = value instead\n",
      "\n",
      "See the caveats in the documentation: https://pandas.pydata.org/pandas-docs/stable/user_guide/indexing.html#returning-a-view-versus-a-copy\n",
      "  df_NVDA['realized_vol'] = df_NVDA['UNDERLYING_LAST'].pct_change().rolling(window=14).std() * np.sqrt(252)\n",
      "/var/folders/j4/4m0tbkvs42v3qk8nmtg75bkm0000gn/T/ipykernel_37918/1211373322.py:23: SettingWithCopyWarning: \n",
      "A value is trying to be set on a copy of a slice from a DataFrame.\n",
      "Try using .loc[row_indexer,col_indexer] = value instead\n",
      "\n",
      "See the caveats in the documentation: https://pandas.pydata.org/pandas-docs/stable/user_guide/indexing.html#returning-a-view-versus-a-copy\n",
      "  df_NVDA['C_LAST_lag1'] = df_NVDA['C_LAST'].shift(1)\n",
      "/var/folders/j4/4m0tbkvs42v3qk8nmtg75bkm0000gn/T/ipykernel_37918/1211373322.py:25: SettingWithCopyWarning: \n",
      "A value is trying to be set on a copy of a slice from a DataFrame.\n",
      "Try using .loc[row_indexer,col_indexer] = value instead\n",
      "\n",
      "See the caveats in the documentation: https://pandas.pydata.org/pandas-docs/stable/user_guide/indexing.html#returning-a-view-versus-a-copy\n",
      "  df_NVDA['C_IV_lag1'] = df_NVDA['C_IV'].shift(1)\n"
     ]
    }
   ],
   "source": [
    "df_NVDA = df[df['Stock_NVDA'] == 1.0]\n",
    "\n",
    "# Calculate Simple Moving Average\n",
    "df_NVDA['SMA'] = df_NVDA['UNDERLYING_LAST'].rolling(window=14).mean()\n",
    "\n",
    "# Calculate Exponential Moving Average\n",
    "df_NVDA['EMA'] = df_NVDA['UNDERLYING_LAST'].ewm(span=14, adjust=False).mean()\n",
    "\n",
    "# Calculate RSI\n",
    "df_NVDA['RSI'] = RSIIndicator(close=df_NVDA['UNDERLYING_LAST'], window=14).rsi()\n",
    "\n",
    "# Calculate Bollinger Bands\n",
    "indicator_bb = BollingerBands(close=df_NVDA['UNDERLYING_LAST'], window=20, window_dev=2)\n",
    "df_NVDA['bb_bbm'] = indicator_bb.bollinger_mavg()\n",
    "df_NVDA['bb_bbh'] = indicator_bb.bollinger_hband()\n",
    "df_NVDA['bb_bbl'] = indicator_bb.bollinger_lband()\n",
    "\n",
    "# Realized Volatility\n",
    "df_NVDA['realized_vol'] = df_NVDA['UNDERLYING_LAST'].pct_change().rolling(window=14).std() * np.sqrt(252)\n",
    "\n",
    "\n",
    "# For lagged features of the target variable, C_LAST:\n",
    "df_NVDA['C_LAST_lag1'] = df_NVDA['C_LAST'].shift(1)\n",
    "# For other variables, you could do the same:\n",
    "df_NVDA['C_IV_lag1'] = df_NVDA['C_IV'].shift(1)\n",
    "\n",
    "\n",
    "df_NVDA = df_NVDA[['C_IV_lag1','C_LAST_lag1','bb_bbm','bb_bbh','bb_bbl','SMA','EMA','RSI', 'realized_vol','UNDERLYING_LAST', 'STRIKE', 'DTE', 'C_IV', 'C_DELTA', 'C_GAMMA', 'C_VEGA', 'C_THETA', 'C_RHO', 'C_VOLUME', 'STRIKE_DISTANCE', 'STRIKE_DISTANCE_PCT', 'interest rate','dividend_rate', 'C_LAST']]\n",
    "df_NVDA = df_NVDA.dropna()\n",
    "\n",
    "# Find indices where C_IV or DTE is zero\n",
    "indices_to_remove = df_NVDA[(df_NVDA['C_IV'] == 0) | (df_NVDA['DTE'] == 0)].index\n",
    "\n",
    "# Drop these indices from the DataFrame\n",
    "df_NVDA = df_NVDA.drop(indices_to_remove)\n",
    "\n",
    "# Reset the index\n",
    "df_NVDA = df_NVDA.reset_index(drop=True)"
   ]
  },
  {
   "cell_type": "markdown",
   "id": "8a8e1075",
   "metadata": {},
   "source": [
    "# Features"
   ]
  },
  {
   "cell_type": "code",
   "execution_count": 18,
   "id": "ea5eccab",
   "metadata": {},
   "outputs": [],
   "source": [
    "# Prepare the features and target variable\n",
    "X_TSLA = df_TSLA[['C_IV_lag1','C_LAST_lag1','bb_bbm','bb_bbh','bb_bbl','SMA','EMA','RSI', 'realized_vol','UNDERLYING_LAST',  'STRIKE','DTE', 'C_IV', 'C_DELTA', 'C_GAMMA', 'C_VEGA', 'C_THETA', 'C_RHO', 'C_VOLUME', 'STRIKE_DISTANCE', 'STRIKE_DISTANCE_PCT', 'interest rate','dividend_rate']].values\n",
    "y_TSLA = df_TSLA['C_LAST'].values"
   ]
  },
  {
   "cell_type": "code",
   "execution_count": 228,
   "id": "f69e6bed",
   "metadata": {},
   "outputs": [],
   "source": [
    "# Prepare the features and target variable\n",
    "X_NVDA = df_NVDA[['C_IV_lag1','C_LAST_lag1','bb_bbm','bb_bbh','bb_bbl','SMA','EMA','RSI', 'realized_vol','UNDERLYING_LAST',  'STRIKE','DTE', 'C_IV', 'C_DELTA', 'C_GAMMA', 'C_VEGA', 'C_THETA', 'C_RHO', 'C_VOLUME', 'STRIKE_DISTANCE', 'STRIKE_DISTANCE_PCT', 'interest rate','dividend_rate']].values\n",
    "y_NVDA = df_NVDA['C_LAST'].values"
   ]
  },
  {
   "cell_type": "code",
   "execution_count": 229,
   "id": "a05d9b4e",
   "metadata": {},
   "outputs": [],
   "source": [
    "# Prepare the features and target variable\n",
    "X_AAPL = df_AAPL[['C_IV_lag1','C_LAST_lag1','bb_bbm','bb_bbh','bb_bbl','SMA','EMA','RSI', 'realized_vol','UNDERLYING_LAST',  'STRIKE','DTE', 'C_IV', 'C_DELTA', 'C_GAMMA', 'C_VEGA', 'C_THETA', 'C_RHO', 'C_VOLUME', 'STRIKE_DISTANCE', 'STRIKE_DISTANCE_PCT', 'interest rate','dividend_rate']].values\n",
    "y_AAPL = df_AAPL['C_LAST'].values"
   ]
  },
  {
   "cell_type": "markdown",
   "id": "0495c413",
   "metadata": {},
   "source": [
    "# Train, Validation and Test Set Preparation"
   ]
  },
  {
   "cell_type": "code",
   "execution_count": 19,
   "id": "f4ae38e1",
   "metadata": {},
   "outputs": [],
   "source": [
    "# Define split points\n",
    "train_split_TSLA = int(len(X_TSLA) * 0.7)  # 70% of the data for training\n",
    "val_split_TSLA = int(len(X_TSLA) * 0.8)    \n",
    "\n",
    "# Split the data into training, validation, and testing sets\n",
    "X_train_TSLA, X_val_test_TSLA = X_TSLA[:train_split_TSLA], X_TSLA[train_split_TSLA:]\n",
    "y_train_TSLA, y_val_test_TSLA = y_TSLA[:train_split_TSLA], y_TSLA[train_split_TSLA:]\n",
    "\n",
    "# Split the remaining 30% into validation and test sets\n",
    "val_size_TSLA = int(len(X_val_test_TSLA) * (10/30))  \n",
    "X_val_TSLA, X_test_TSLA = X_val_test_TSLA[:val_size_TSLA], X_val_test_TSLA[val_size_TSLA:]\n",
    "y_val_TSLA, y_test_TSLA = y_val_test_TSLA[:val_size_TSLA], y_val_test_TSLA[val_size_TSLA:]"
   ]
  },
  {
   "cell_type": "code",
   "execution_count": 230,
   "id": "8fdd4eb9",
   "metadata": {},
   "outputs": [],
   "source": [
    "# Define split points\n",
    "train_split_AAPL = int(len(X_AAPL) * 0.7)  # 70% of the data for training\n",
    "val_split_AAPL = int(len(X_AAPL) * 0.8)    \n",
    "\n",
    "# Split the data into training, validation, and testing sets\n",
    "X_train_AAPL, X_val_test_AAPL = X_AAPL[:train_split_AAPL], X_AAPL[train_split_AAPL:]\n",
    "y_train_AAPL, y_val_test_AAPL = y_AAPL[:train_split_AAPL], y_AAPL[train_split_AAPL:]\n",
    "\n",
    "# Split the remaining 30% into validation and test sets\n",
    "val_size_AAPL = int(len(X_val_test_AAPL) * (10/30))  \n",
    "X_val_AAPL, X_test_AAPL = X_val_test_AAPL[:val_size_AAPL], X_val_test_AAPL[val_size_AAPL:]\n",
    "y_val_AAPL, y_test_AAPL = y_val_test_AAPL[:val_size_AAPL], y_val_test_AAPL[val_size_AAPL:]"
   ]
  },
  {
   "cell_type": "code",
   "execution_count": 231,
   "id": "5c59b5b0",
   "metadata": {},
   "outputs": [],
   "source": [
    "# Define split points for NVDA dataset\n",
    "train_split_NVDA = int(len(X_NVDA) * 0.7)  # 70% of the data for training\n",
    "val_split_NVDA = int(len(X_NVDA) * 0.8)    \n",
    "\n",
    "# Split the data into training, validation, and testing sets\n",
    "X_train_NVDA, X_val_test_NVDA = X_NVDA[:train_split_NVDA], X_NVDA[train_split_NVDA:]\n",
    "y_train_NVDA, y_val_test_NVDA = y_NVDA[:train_split_NVDA], y_NVDA[train_split_NVDA:]\n",
    "\n",
    "# Split the remaining 30% into validation and test sets\n",
    "val_size_NVDA = int(len(X_val_test_NVDA) * (10/30))  \n",
    "X_val_NVDA, X_test_NVDA = X_val_test_NVDA[:val_size_NVDA], X_val_test_NVDA[val_size_NVDA:]\n",
    "y_val_NVDA, y_test_NVDA = y_val_test_NVDA[:val_size_NVDA], y_val_test_NVDA[val_size_NVDA:]"
   ]
  },
  {
   "cell_type": "markdown",
   "id": "76d11862",
   "metadata": {},
   "source": [
    "# Data Preparation for RNN (LSTM, GRU, BiLSTM)"
   ]
  },
  {
   "cell_type": "code",
   "execution_count": 20,
   "id": "a544fc7e",
   "metadata": {},
   "outputs": [],
   "source": [
    "# Scale the features\n",
    "scaler = MinMaxScaler(feature_range=(0, 1))\n",
    "X_train_scaled = scaler.fit_transform(X_train_TSLA)\n",
    "X_val_scaled = scaler.transform(X_val_TSLA)\n",
    "X_test_scaled = scaler.transform(X_test_TSLA)\n",
    "\n",
    "# Reshape input to be [samples, time steps, features] which is required for LSTM, BiLSTM, and GRU\n",
    "X_train_scaled = X_train_scaled.reshape((X_train_scaled.shape[0], 1, X_train_scaled.shape[1]))\n",
    "X_val_scaled = X_val_scaled.reshape((X_val_scaled.shape[0], 1, X_val_scaled.shape[1]))\n",
    "X_test_scaled = X_test_scaled.reshape((X_test_scaled.shape[0], 1, X_test_scaled.shape[1]))"
   ]
  },
  {
   "cell_type": "code",
   "execution_count": 239,
   "id": "075bc470",
   "metadata": {},
   "outputs": [],
   "source": [
    "# Scale the features\n",
    "scaler = MinMaxScaler(feature_range=(0, 1))\n",
    "X_train_scaled_AAPL = scaler.fit_transform(X_train_AAPL)\n",
    "X_val_scaled_AAPL = scaler.transform(X_val_AAPL)\n",
    "X_test_scaled_AAPL = scaler.transform(X_test_AAPL)\n",
    "\n",
    "# Reshape input to be [samples, time steps, features] which is required for LSTM, BiLSTM, and GRU\n",
    "X_train_scaled_AAPL = X_train_scaled_AAPL.reshape((X_train_scaled_AAPL.shape[0], 1, X_train_scaled_AAPL.shape[1]))\n",
    "X_val_scaled_AAPL = X_val_scaled_AAPL.reshape((X_val_scaled_AAPL.shape[0], 1, X_val_scaled_AAPL.shape[1]))\n",
    "X_test_scaled_AAPL = X_test_scaled_AAPL.reshape((X_test_scaled_AAPL.shape[0], 1, X_test_scaled_AAPL.shape[1]))"
   ]
  },
  {
   "cell_type": "code",
   "execution_count": 240,
   "id": "1fceb54c",
   "metadata": {},
   "outputs": [],
   "source": [
    "# Scale the features\n",
    "scaler = MinMaxScaler(feature_range=(0, 1))\n",
    "X_train_scaled_NVDA = scaler.fit_transform(X_train_NVDA)\n",
    "X_val_scaled_NVDA = scaler.transform(X_val_NVDA)\n",
    "X_test_scaled_NVDA = scaler.transform(X_test_NVDA)\n",
    "\n",
    "# Reshape input to be [samples, time steps, features] which is required for LSTM, BiLSTM, and GRU\n",
    "X_train_scaled_NVDA = X_train_scaled_NVDA.reshape((X_train_scaled_NVDA.shape[0], 1, X_train_scaled_NVDA.shape[1]))\n",
    "X_val_scaled_NVDA = X_val_scaled_NVDA.reshape((X_val_scaled_NVDA.shape[0], 1, X_val_scaled_NVDA.shape[1]))\n",
    "X_test_scaled_NVDA = X_test_scaled_NVDA.reshape((X_test_scaled_NVDA.shape[0], 1, X_test_scaled_NVDA.shape[1]))"
   ]
  },
  {
   "cell_type": "code",
   "execution_count": null,
   "id": "66c602f4",
   "metadata": {},
   "outputs": [],
   "source": []
  },
  {
   "cell_type": "markdown",
   "id": "211b9826",
   "metadata": {},
   "source": [
    "# Early Stopping "
   ]
  },
  {
   "cell_type": "code",
   "execution_count": null,
   "id": "6383732a",
   "metadata": {},
   "outputs": [],
   "source": [
    "early_stopping = EarlyStopping(monitor='val_loss', patience=10, verbose=1, mode='min', restore_best_weights=True)"
   ]
  },
  {
   "cell_type": "markdown",
   "id": "6251efe5",
   "metadata": {},
   "source": [
    "# Basic LSTM"
   ]
  },
  {
   "cell_type": "code",
   "execution_count": 21,
   "id": "74f712a0",
   "metadata": {
    "scrolled": true
   },
   "outputs": [],
   "source": [
    "# Define the LSTM model\n",
    "lstm_model = Sequential()\n",
    "lstm_model.add(LSTM(50, input_shape=(X_train_scaled.shape[1], X_train_scaled.shape[2])))\n",
    "lstm_model.add(Dense(1))\n",
    "\n",
    "# Compile the models\n",
    "lstm_model.compile(optimizer='adam', loss='mean_squared_error')"
   ]
  },
  {
   "cell_type": "code",
   "execution_count": 26,
   "id": "b42dc991",
   "metadata": {},
   "outputs": [
    {
     "name": "stdout",
     "output_type": "stream",
     "text": [
      "Epoch 1/100\n",
      "7526/7526 [==============================] - 47s 6ms/step - loss: 135.7168 - val_loss: 301.9375\n",
      "Epoch 2/100\n",
      "7526/7526 [==============================] - 46s 6ms/step - loss: 113.5806 - val_loss: 242.3206\n",
      "Epoch 3/100\n",
      "7526/7526 [==============================] - 48s 6ms/step - loss: 109.4850 - val_loss: 237.0301\n",
      "Epoch 4/100\n",
      "7526/7526 [==============================] - 46s 6ms/step - loss: 107.5144 - val_loss: 242.1085\n",
      "Epoch 5/100\n",
      "7526/7526 [==============================] - 42s 6ms/step - loss: 106.2654 - val_loss: 228.4237\n",
      "Epoch 6/100\n",
      "7526/7526 [==============================] - 44s 6ms/step - loss: 105.3563 - val_loss: 240.6444\n",
      "Epoch 7/100\n",
      "7526/7526 [==============================] - 41s 5ms/step - loss: 104.6582 - val_loss: 226.1394\n",
      "Epoch 8/100\n",
      "7526/7526 [==============================] - 40s 5ms/step - loss: 104.0904 - val_loss: 234.1150\n",
      "Epoch 9/100\n",
      "7526/7526 [==============================] - 46s 6ms/step - loss: 103.3623 - val_loss: 208.3266\n",
      "Epoch 10/100\n",
      "7526/7526 [==============================] - 47s 6ms/step - loss: 102.6600 - val_loss: 213.3943\n",
      "Epoch 11/100\n",
      "7526/7526 [==============================] - 46s 6ms/step - loss: 102.0827 - val_loss: 227.1484\n",
      "Epoch 12/100\n",
      "7526/7526 [==============================] - 47s 6ms/step - loss: 101.5685 - val_loss: 213.0104\n",
      "Epoch 13/100\n",
      "7526/7526 [==============================] - 35s 5ms/step - loss: 101.0194 - val_loss: 213.3593\n",
      "Epoch 14/100\n",
      "7526/7526 [==============================] - 24s 3ms/step - loss: 100.5634 - val_loss: 206.8176\n",
      "Epoch 15/100\n",
      "7526/7526 [==============================] - 29s 4ms/step - loss: 100.2229 - val_loss: 197.2090\n",
      "Epoch 16/100\n",
      "7526/7526 [==============================] - 27s 4ms/step - loss: 99.8445 - val_loss: 192.5424\n",
      "Epoch 17/100\n",
      "7526/7526 [==============================] - 26s 4ms/step - loss: 99.4882 - val_loss: 195.9958\n",
      "Epoch 18/100\n",
      "7526/7526 [==============================] - 26s 3ms/step - loss: 99.3341 - val_loss: 217.1119\n",
      "Epoch 19/100\n",
      "7526/7526 [==============================] - 28s 4ms/step - loss: 99.1587 - val_loss: 208.7964\n",
      "Epoch 20/100\n",
      "7526/7526 [==============================] - 29s 4ms/step - loss: 99.0017 - val_loss: 199.3759\n",
      "Epoch 21/100\n",
      "7526/7526 [==============================] - 27s 4ms/step - loss: 98.8232 - val_loss: 219.5824\n",
      "Epoch 22/100\n",
      "7526/7526 [==============================] - 29s 4ms/step - loss: 98.7044 - val_loss: 196.3170\n",
      "Epoch 23/100\n",
      "7526/7526 [==============================] - 24s 3ms/step - loss: 98.5550 - val_loss: 189.3509\n",
      "Epoch 24/100\n",
      "7526/7526 [==============================] - 23s 3ms/step - loss: 98.4023 - val_loss: 197.2568\n",
      "Epoch 25/100\n",
      "7526/7526 [==============================] - 23s 3ms/step - loss: 98.3223 - val_loss: 198.0036\n",
      "Epoch 26/100\n",
      "7526/7526 [==============================] - 20s 3ms/step - loss: 98.2045 - val_loss: 192.3139\n",
      "Epoch 27/100\n",
      "7526/7526 [==============================] - 20s 3ms/step - loss: 98.0995 - val_loss: 194.3733\n",
      "Epoch 28/100\n",
      "7526/7526 [==============================] - 20s 3ms/step - loss: 97.9749 - val_loss: 197.4400\n",
      "Epoch 29/100\n",
      "7526/7526 [==============================] - 20s 3ms/step - loss: 97.9528 - val_loss: 204.9767\n",
      "Epoch 30/100\n",
      "7526/7526 [==============================] - 20s 3ms/step - loss: 97.9405 - val_loss: 184.3217\n",
      "Epoch 31/100\n",
      "7526/7526 [==============================] - 20s 3ms/step - loss: 97.7223 - val_loss: 181.0968\n",
      "Epoch 32/100\n",
      "7526/7526 [==============================] - 20s 3ms/step - loss: 97.7051 - val_loss: 204.0770\n",
      "Epoch 33/100\n",
      "7526/7526 [==============================] - 20s 3ms/step - loss: 97.5869 - val_loss: 188.9702\n",
      "Epoch 34/100\n",
      "7526/7526 [==============================] - 20s 3ms/step - loss: 97.6268 - val_loss: 192.3630\n",
      "Epoch 35/100\n",
      "7526/7526 [==============================] - 20s 3ms/step - loss: 97.5784 - val_loss: 194.3091\n",
      "Epoch 36/100\n",
      "7526/7526 [==============================] - 20s 3ms/step - loss: 97.4369 - val_loss: 178.7881\n",
      "Epoch 37/100\n",
      "7526/7526 [==============================] - 20s 3ms/step - loss: 97.3910 - val_loss: 189.8167\n",
      "Epoch 38/100\n",
      "7526/7526 [==============================] - 21s 3ms/step - loss: 97.3213 - val_loss: 195.5594\n",
      "Epoch 39/100\n",
      "7526/7526 [==============================] - 21s 3ms/step - loss: 97.3165 - val_loss: 183.5054\n",
      "Epoch 40/100\n",
      "7526/7526 [==============================] - 20s 3ms/step - loss: 97.2204 - val_loss: 181.7408\n",
      "Epoch 41/100\n",
      "7526/7526 [==============================] - 20s 3ms/step - loss: 97.1760 - val_loss: 196.6486\n",
      "Epoch 42/100\n",
      "7526/7526 [==============================] - 20s 3ms/step - loss: 97.1828 - val_loss: 200.3115\n",
      "Epoch 43/100\n",
      "7526/7526 [==============================] - 20s 3ms/step - loss: 97.1115 - val_loss: 185.7330\n",
      "Epoch 44/100\n",
      "7526/7526 [==============================] - 20s 3ms/step - loss: 97.0887 - val_loss: 182.4628\n",
      "Epoch 45/100\n",
      "7526/7526 [==============================] - 20s 3ms/step - loss: 97.0252 - val_loss: 189.4999\n",
      "Epoch 46/100\n",
      "7526/7526 [==============================] - 20s 3ms/step - loss: 96.9248 - val_loss: 196.6792\n"
     ]
    }
   ],
   "source": [
    "# Define callbacks\n",
    "model_checkpoint = ModelCheckpoint('best_model.h5', monitor='val_loss', save_best_only=True, save_weights_only=True)\n",
    "\n",
    "# Fit the LSTM model\n",
    "history_lstm = lstm_model.fit(\n",
    "    X_train_scaled, y_train_TSLA, \n",
    "    epochs=100,  \n",
    "    batch_size=32, \n",
    "    validation_data=(X_val_scaled, y_val_TSLA), \n",
    "    callbacks=[early_stopping, model_checkpoint],\n",
    "    verbose=1\n",
    ")"
   ]
  },
  {
   "cell_type": "code",
   "execution_count": 27,
   "id": "227db4d3",
   "metadata": {},
   "outputs": [
    {
     "name": "stdout",
     "output_type": "stream",
     "text": [
      "2151/2151 [==============================] - 3s 2ms/step\n",
      "LSTM RMSE: 13.736701255401467\n"
     ]
    }
   ],
   "source": [
    "y_pred_lstm = lstm_model.predict(X_test_scaled)\n",
    "rmse_lstm = sqrt(mean_squared_error(y_test_TSLA, y_pred_lstm))\n",
    "print(f\"LSTM RMSE: {rmse_lstm}\")"
   ]
  },
  {
   "cell_type": "markdown",
   "id": "b38f05fa",
   "metadata": {},
   "source": [
    "# Basic Bidirectional LSTM"
   ]
  },
  {
   "cell_type": "code",
   "execution_count": 28,
   "id": "ad4312c2",
   "metadata": {
    "scrolled": true
   },
   "outputs": [],
   "source": [
    "# Define the Bidirectional LSTM model\n",
    "bilstm_model = Sequential()\n",
    "bilstm_model.add(Bidirectional(LSTM(50), input_shape=(X_train_scaled.shape[1], X_train_scaled.shape[2])))\n",
    "bilstm_model.add(Dense(1))\n",
    "\n",
    "bilstm_model.compile(optimizer='adam', loss='mean_squared_error')"
   ]
  },
  {
   "cell_type": "code",
   "execution_count": 29,
   "id": "cb96070c",
   "metadata": {},
   "outputs": [
    {
     "name": "stdout",
     "output_type": "stream",
     "text": [
      "Epoch 1/100\n",
      "7526/7526 [==============================] - 28s 3ms/step - loss: 498.2319 - val_loss: 332.7070\n",
      "Epoch 2/100\n",
      "7526/7526 [==============================] - 25s 3ms/step - loss: 117.4691 - val_loss: 241.0544\n",
      "Epoch 3/100\n",
      "7526/7526 [==============================] - 25s 3ms/step - loss: 111.0862 - val_loss: 231.2294\n",
      "Epoch 4/100\n",
      "7526/7526 [==============================] - 25s 3ms/step - loss: 108.7417 - val_loss: 242.1611\n",
      "Epoch 5/100\n",
      "7526/7526 [==============================] - 25s 3ms/step - loss: 107.2034 - val_loss: 230.2796\n",
      "Epoch 6/100\n",
      "7526/7526 [==============================] - 25s 3ms/step - loss: 106.0757 - val_loss: 238.9632\n",
      "Epoch 7/100\n",
      "7526/7526 [==============================] - 26s 3ms/step - loss: 105.1821 - val_loss: 223.2638\n",
      "Epoch 8/100\n",
      "7526/7526 [==============================] - 26s 3ms/step - loss: 104.3703 - val_loss: 234.2121\n",
      "Epoch 9/100\n",
      "7526/7526 [==============================] - 25s 3ms/step - loss: 103.3692 - val_loss: 207.7466\n",
      "Epoch 10/100\n",
      "7526/7526 [==============================] - 26s 3ms/step - loss: 102.4191 - val_loss: 210.4472\n",
      "Epoch 11/100\n",
      "7526/7526 [==============================] - 25s 3ms/step - loss: 101.6994 - val_loss: 228.7088\n",
      "Epoch 12/100\n",
      "7526/7526 [==============================] - 25s 3ms/step - loss: 101.1209 - val_loss: 209.0450\n",
      "Epoch 13/100\n",
      "7526/7526 [==============================] - 25s 3ms/step - loss: 100.5720 - val_loss: 208.8765\n",
      "Epoch 14/100\n",
      "7526/7526 [==============================] - 25s 3ms/step - loss: 100.1629 - val_loss: 206.9669\n",
      "Epoch 15/100\n",
      "7526/7526 [==============================] - 26s 3ms/step - loss: 99.8660 - val_loss: 194.2431\n",
      "Epoch 16/100\n",
      "7526/7526 [==============================] - 26s 3ms/step - loss: 99.5350 - val_loss: 189.2076\n",
      "Epoch 17/100\n",
      "7526/7526 [==============================] - 25s 3ms/step - loss: 99.1727 - val_loss: 196.8390\n",
      "Epoch 18/100\n",
      "7526/7526 [==============================] - 26s 3ms/step - loss: 99.0577 - val_loss: 218.3811\n",
      "Epoch 19/100\n",
      "7526/7526 [==============================] - 26s 3ms/step - loss: 98.9014 - val_loss: 208.7827\n",
      "Epoch 20/100\n",
      "7526/7526 [==============================] - 25s 3ms/step - loss: 98.7573 - val_loss: 199.8224\n",
      "Epoch 21/100\n",
      "7526/7526 [==============================] - 26s 3ms/step - loss: 98.6062 - val_loss: 220.0481\n",
      "Epoch 22/100\n",
      "7526/7526 [==============================] - 26s 3ms/step - loss: 98.4863 - val_loss: 195.2464\n",
      "Epoch 23/100\n",
      "7526/7526 [==============================] - 26s 3ms/step - loss: 98.3511 - val_loss: 190.3230\n",
      "Epoch 24/100\n",
      "7526/7526 [==============================] - 26s 3ms/step - loss: 98.2082 - val_loss: 196.0748\n",
      "Epoch 25/100\n",
      "7526/7526 [==============================] - 26s 3ms/step - loss: 98.1261 - val_loss: 195.8644\n",
      "Epoch 26/100\n",
      "7526/7526 [==============================] - 26s 3ms/step - loss: 98.0183 - val_loss: 193.6539\n"
     ]
    }
   ],
   "source": [
    "# Fit the Bidirectional LSTM model\n",
    "history_bilstm = bilstm_model.fit(\n",
    "    X_train_scaled, y_train_TSLA, \n",
    "    epochs=100,\n",
    "    batch_size=32, \n",
    "    validation_data=(X_val_scaled, y_val_TSLA), \n",
    "    callbacks=[early_stopping, ModelCheckpoint('best_bilstm_model.h5', monitor='val_loss', save_best_only=True, save_weights_only=True)],\n",
    "    verbose=1\n",
    ")"
   ]
  },
  {
   "cell_type": "code",
   "execution_count": 88,
   "id": "40f8e7ce",
   "metadata": {},
   "outputs": [
    {
     "name": "stdout",
     "output_type": "stream",
     "text": [
      "2151/2151 [==============================] - 4s 2ms/step\n",
      "BiLSTM RMSE: 14.13270566401358\n"
     ]
    }
   ],
   "source": [
    "y_pred_bilstm = bilstm_model.predict(X_test_scaled)\n",
    "rmse_bilstm = sqrt(mean_squared_error(y_test_TSLA, y_pred_bilstm))\n",
    "print(f\"BiLSTM RMSE: {rmse_bilstm}\")"
   ]
  },
  {
   "cell_type": "markdown",
   "id": "defa9e7f",
   "metadata": {},
   "source": [
    "# Basic GRU"
   ]
  },
  {
   "cell_type": "code",
   "execution_count": 31,
   "id": "342e634e",
   "metadata": {},
   "outputs": [],
   "source": [
    "# Define the GRU model\n",
    "gru_model = Sequential()\n",
    "gru_model.add(GRU(50, input_shape=(X_train_scaled.shape[1], X_train_scaled.shape[2])))\n",
    "gru_model.add(Dense(1))\n",
    "\n",
    "gru_model.compile(optimizer='adam', loss='mean_squared_error')"
   ]
  },
  {
   "cell_type": "code",
   "execution_count": 32,
   "id": "aea9dbf9",
   "metadata": {},
   "outputs": [
    {
     "name": "stdout",
     "output_type": "stream",
     "text": [
      "Epoch 1/100\n",
      "7526/7526 [==============================] - 22s 3ms/step - loss: 657.1649 - val_loss: 432.3018\n",
      "Epoch 2/100\n",
      "7526/7526 [==============================] - 19s 3ms/step - loss: 120.8293 - val_loss: 253.8939\n",
      "Epoch 3/100\n",
      "7526/7526 [==============================] - 20s 3ms/step - loss: 110.8535 - val_loss: 236.8273\n",
      "Epoch 4/100\n",
      "7526/7526 [==============================] - 21s 3ms/step - loss: 108.3470 - val_loss: 241.1028\n",
      "Epoch 5/100\n",
      "7526/7526 [==============================] - 20s 3ms/step - loss: 106.8766 - val_loss: 231.4398\n",
      "Epoch 6/100\n",
      "7526/7526 [==============================] - 20s 3ms/step - loss: 105.9097 - val_loss: 240.4187\n",
      "Epoch 7/100\n",
      "7526/7526 [==============================] - 20s 3ms/step - loss: 105.2632 - val_loss: 226.1478\n",
      "Epoch 8/100\n",
      "7526/7526 [==============================] - 20s 3ms/step - loss: 104.8292 - val_loss: 232.9587\n",
      "Epoch 9/100\n",
      "7526/7526 [==============================] - 20s 3ms/step - loss: 104.2549 - val_loss: 208.6066\n",
      "Epoch 10/100\n",
      "7526/7526 [==============================] - 20s 3ms/step - loss: 103.7690 - val_loss: 214.8131\n",
      "Epoch 11/100\n",
      "7526/7526 [==============================] - 20s 3ms/step - loss: 103.2613 - val_loss: 233.0569\n",
      "Epoch 12/100\n",
      "7526/7526 [==============================] - 20s 3ms/step - loss: 102.7995 - val_loss: 213.5742\n",
      "Epoch 13/100\n",
      "7526/7526 [==============================] - 20s 3ms/step - loss: 102.2962 - val_loss: 219.1707\n",
      "Epoch 14/100\n",
      "7526/7526 [==============================] - 20s 3ms/step - loss: 101.8124 - val_loss: 209.0933\n",
      "Epoch 15/100\n",
      "7526/7526 [==============================] - 20s 3ms/step - loss: 101.3520 - val_loss: 199.5256\n",
      "Epoch 16/100\n",
      "7526/7526 [==============================] - 20s 3ms/step - loss: 100.8209 - val_loss: 193.0212\n",
      "Epoch 17/100\n",
      "7526/7526 [==============================] - 20s 3ms/step - loss: 100.2812 - val_loss: 199.2646\n",
      "Epoch 18/100\n",
      "7526/7526 [==============================] - 20s 3ms/step - loss: 99.9615 - val_loss: 221.0419\n",
      "Epoch 19/100\n",
      "7526/7526 [==============================] - 20s 3ms/step - loss: 99.6702 - val_loss: 210.0706\n",
      "Epoch 20/100\n",
      "7526/7526 [==============================] - 20s 3ms/step - loss: 99.3826 - val_loss: 203.3436\n",
      "Epoch 21/100\n",
      "7526/7526 [==============================] - 20s 3ms/step - loss: 99.0903 - val_loss: 223.8658\n",
      "Epoch 22/100\n",
      "7526/7526 [==============================] - 20s 3ms/step - loss: 98.9199 - val_loss: 196.1057\n",
      "Epoch 23/100\n",
      "7526/7526 [==============================] - 21s 3ms/step - loss: 98.6953 - val_loss: 190.7223\n",
      "Epoch 24/100\n",
      "7526/7526 [==============================] - 20s 3ms/step - loss: 98.4598 - val_loss: 198.0954\n",
      "Epoch 25/100\n",
      "7526/7526 [==============================] - 20s 3ms/step - loss: 98.3209 - val_loss: 198.5737\n",
      "Epoch 26/100\n",
      "7526/7526 [==============================] - 20s 3ms/step - loss: 98.1540 - val_loss: 190.4905\n",
      "Epoch 27/100\n",
      "7526/7526 [==============================] - 21s 3ms/step - loss: 98.0093 - val_loss: 190.1876\n",
      "Epoch 28/100\n",
      "7526/7526 [==============================] - 21s 3ms/step - loss: 97.8506 - val_loss: 196.4409\n",
      "Epoch 29/100\n",
      "7526/7526 [==============================] - 21s 3ms/step - loss: 97.7959 - val_loss: 209.8834\n",
      "Epoch 30/100\n",
      "7526/7526 [==============================] - 21s 3ms/step - loss: 97.7898 - val_loss: 182.9510\n",
      "Epoch 31/100\n",
      "7526/7526 [==============================] - 21s 3ms/step - loss: 97.4916 - val_loss: 176.8474\n",
      "Epoch 32/100\n",
      "7526/7526 [==============================] - 21s 3ms/step - loss: 97.4654 - val_loss: 204.9512\n",
      "Epoch 33/100\n",
      "7526/7526 [==============================] - 21s 3ms/step - loss: 97.2921 - val_loss: 189.0151\n",
      "Epoch 34/100\n",
      "7526/7526 [==============================] - 21s 3ms/step - loss: 97.3345 - val_loss: 190.2243\n",
      "Epoch 35/100\n",
      "7526/7526 [==============================] - 21s 3ms/step - loss: 97.2408 - val_loss: 192.0774\n",
      "Epoch 36/100\n",
      "7526/7526 [==============================] - 22s 3ms/step - loss: 97.1051 - val_loss: 176.0227\n",
      "Epoch 37/100\n",
      "7526/7526 [==============================] - 22s 3ms/step - loss: 97.0013 - val_loss: 186.3739\n",
      "Epoch 38/100\n",
      "7526/7526 [==============================] - 22s 3ms/step - loss: 96.9063 - val_loss: 194.2384\n",
      "Epoch 39/100\n",
      "7526/7526 [==============================] - 22s 3ms/step - loss: 96.9209 - val_loss: 182.8014\n",
      "Epoch 40/100\n",
      "7526/7526 [==============================] - 22s 3ms/step - loss: 96.8241 - val_loss: 182.1681\n",
      "Epoch 41/100\n",
      "7526/7526 [==============================] - 21s 3ms/step - loss: 96.7129 - val_loss: 196.8113\n",
      "Epoch 42/100\n",
      "7526/7526 [==============================] - 22s 3ms/step - loss: 96.7351 - val_loss: 197.5029\n",
      "Epoch 43/100\n",
      "7526/7526 [==============================] - 22s 3ms/step - loss: 96.6410 - val_loss: 184.9008\n",
      "Epoch 44/100\n",
      "7526/7526 [==============================] - 22s 3ms/step - loss: 96.5729 - val_loss: 181.7724\n",
      "Epoch 45/100\n",
      "7526/7526 [==============================] - 23s 3ms/step - loss: 96.5095 - val_loss: 186.3561\n",
      "Epoch 46/100\n",
      "7526/7526 [==============================] - 22s 3ms/step - loss: 96.4139 - val_loss: 200.2587\n"
     ]
    }
   ],
   "source": [
    "# Fit the GRU model\n",
    "history_gru = gru_model.fit(\n",
    "    X_train_scaled, y_train_TSLA, \n",
    "    epochs=100,\n",
    "    batch_size=32, \n",
    "    validation_data=(X_val_scaled, y_val_TSLA), \n",
    "    callbacks=[early_stopping, ModelCheckpoint('best_gru_model.h5', monitor='val_loss', save_best_only=True, save_weights_only=True)],\n",
    "    verbose=1\n",
    ")"
   ]
  },
  {
   "cell_type": "code",
   "execution_count": 162,
   "id": "7b138404",
   "metadata": {},
   "outputs": [
    {
     "name": "stdout",
     "output_type": "stream",
     "text": [
      "2151/2151 [==============================] - 3s 1ms/step\n",
      "GRU RMSE: 13.640402938930471\n"
     ]
    }
   ],
   "source": [
    "y_pred_gru= gru_model.predict(X_test_scaled)\n",
    "rmse_gru= sqrt(mean_squared_error(y_test_TSLA, y_pred_gru))\n",
    "print(f\"GRU RMSE: {rmse_gru}\")"
   ]
  },
  {
   "cell_type": "markdown",
   "id": "49fb5419",
   "metadata": {},
   "source": [
    "# Best Model is GRU, followed by LSTM, and lastly BiLSTM, hence, we will be adding complexity to only the GRU and LSTM models from here on"
   ]
  },
  {
   "cell_type": "markdown",
   "id": "73ad98f4",
   "metadata": {},
   "source": [
    "# 2-layer Stacked LSTM"
   ]
  },
  {
   "cell_type": "code",
   "execution_count": 185,
   "id": "c093718c",
   "metadata": {},
   "outputs": [],
   "source": [
    "# Define a stacked LSTM model\n",
    "def create_stacked_lstm(input_shape):\n",
    "    model = Sequential()\n",
    "    model.add(LSTM(50, return_sequences=True, input_shape=input_shape))\n",
    "    model.add(LSTM(50, return_sequences=False))\n",
    "    model.add(Dense(1))\n",
    "    model.compile(optimizer='adam', loss='mean_squared_error')\n",
    "    return model\n",
    "\n",
    "# Assuming input_shape has been defined based on your scaled training data\n",
    "input_shape = (X_train_scaled.shape[1], X_train_scaled.shape[2])\n",
    "model_stacked_lstm = create_stacked_lstm(input_shape)"
   ]
  },
  {
   "cell_type": "code",
   "execution_count": 186,
   "id": "23124492",
   "metadata": {},
   "outputs": [
    {
     "name": "stdout",
     "output_type": "stream",
     "text": [
      "Epoch 1/100\n",
      "7526/7526 [==============================] - 40s 5ms/step - loss: 745.6646 - val_loss: 552.1876\n",
      "Epoch 2/100\n",
      "7526/7526 [==============================] - 41s 5ms/step - loss: 117.1720 - val_loss: 248.6272\n",
      "Epoch 3/100\n",
      "7526/7526 [==============================] - 38s 5ms/step - loss: 105.4512 - val_loss: 221.4416\n",
      "Epoch 4/100\n",
      "7526/7526 [==============================] - 44s 6ms/step - loss: 103.3983 - val_loss: 206.8194\n",
      "Epoch 5/100\n",
      "7526/7526 [==============================] - 49s 6ms/step - loss: 102.1340 - val_loss: 205.8976\n",
      "Epoch 6/100\n",
      "7526/7526 [==============================] - 46s 6ms/step - loss: 101.6044 - val_loss: 209.6232\n",
      "Epoch 7/100\n",
      "7526/7526 [==============================] - 44s 6ms/step - loss: 101.0211 - val_loss: 202.0710\n",
      "Epoch 8/100\n",
      "7526/7526 [==============================] - 44s 6ms/step - loss: 100.5718 - val_loss: 237.7401\n",
      "Epoch 9/100\n",
      "7526/7526 [==============================] - 48s 6ms/step - loss: 99.9452 - val_loss: 197.2397\n",
      "Epoch 10/100\n",
      "7526/7526 [==============================] - 45s 6ms/step - loss: 99.4629 - val_loss: 179.3590\n",
      "Epoch 11/100\n",
      "7526/7526 [==============================] - 49s 7ms/step - loss: 99.0546 - val_loss: 214.7486\n",
      "Epoch 12/100\n",
      "7526/7526 [==============================] - 38s 5ms/step - loss: 98.6908 - val_loss: 185.9651\n",
      "Epoch 13/100\n",
      "7526/7526 [==============================] - 43s 6ms/step - loss: 98.2912 - val_loss: 190.8859\n",
      "Epoch 14/100\n",
      "7526/7526 [==============================] - 32s 4ms/step - loss: 97.8320 - val_loss: 190.2253\n",
      "Epoch 15/100\n",
      "7526/7526 [==============================] - 34s 4ms/step - loss: 97.7226 - val_loss: 186.4516\n",
      "Epoch 16/100\n",
      "7526/7526 [==============================] - 43s 6ms/step - loss: 97.3604 - val_loss: 176.0486\n",
      "Epoch 17/100\n",
      "7526/7526 [==============================] - 47s 6ms/step - loss: 96.8771 - val_loss: 198.4966\n",
      "Epoch 18/100\n",
      "7526/7526 [==============================] - 59s 8ms/step - loss: 96.7853 - val_loss: 217.5622\n",
      "Epoch 19/100\n",
      "7526/7526 [==============================] - 41s 5ms/step - loss: 96.7284 - val_loss: 196.9939\n",
      "Epoch 20/100\n",
      "7526/7526 [==============================] - 33s 4ms/step - loss: 96.4139 - val_loss: 190.2915\n",
      "Epoch 21/100\n",
      "7526/7526 [==============================] - 33s 4ms/step - loss: 96.1998 - val_loss: 204.7608\n",
      "Epoch 22/100\n",
      "7526/7526 [==============================] - 34s 5ms/step - loss: 95.9745 - val_loss: 188.8815\n",
      "Epoch 23/100\n",
      "7526/7526 [==============================] - 34s 5ms/step - loss: 95.8403 - val_loss: 174.5773\n",
      "Epoch 24/100\n",
      "7526/7526 [==============================] - 33s 4ms/step - loss: 95.4748 - val_loss: 197.6799\n",
      "Epoch 25/100\n",
      "7526/7526 [==============================] - 33s 4ms/step - loss: 95.4760 - val_loss: 185.9941\n",
      "Epoch 26/100\n",
      "7526/7526 [==============================] - 33s 4ms/step - loss: 95.0867 - val_loss: 179.6340\n",
      "Epoch 27/100\n",
      "7526/7526 [==============================] - 33s 4ms/step - loss: 94.9450 - val_loss: 183.6419\n",
      "Epoch 28/100\n",
      "7526/7526 [==============================] - 45s 6ms/step - loss: 94.6623 - val_loss: 193.7915\n",
      "Epoch 29/100\n",
      "7526/7526 [==============================] - 43s 6ms/step - loss: 94.5303 - val_loss: 192.7223\n",
      "Epoch 30/100\n",
      "7526/7526 [==============================] - 42s 6ms/step - loss: 94.5727 - val_loss: 187.2416\n",
      "Epoch 31/100\n",
      "7526/7526 [==============================] - 39s 5ms/step - loss: 94.2219 - val_loss: 168.4703\n",
      "Epoch 32/100\n",
      "7526/7526 [==============================] - 44s 6ms/step - loss: 94.0684 - val_loss: 189.4572\n",
      "Epoch 33/100\n",
      "7526/7526 [==============================] - 34s 5ms/step - loss: 93.7550 - val_loss: 175.5372\n",
      "Epoch 34/100\n",
      "7526/7526 [==============================] - 34s 5ms/step - loss: 93.7294 - val_loss: 193.6308\n",
      "Epoch 35/100\n",
      "7526/7526 [==============================] - 34s 5ms/step - loss: 93.5142 - val_loss: 183.3883\n",
      "Epoch 36/100\n",
      "7526/7526 [==============================] - 34s 4ms/step - loss: 93.2874 - val_loss: 168.0326\n",
      "Epoch 37/100\n",
      "7526/7526 [==============================] - 34s 5ms/step - loss: 93.0988 - val_loss: 187.3491\n",
      "Epoch 38/100\n",
      "7526/7526 [==============================] - 34s 5ms/step - loss: 92.7952 - val_loss: 182.0758\n",
      "Epoch 39/100\n",
      "7526/7526 [==============================] - 34s 5ms/step - loss: 92.7419 - val_loss: 178.9909\n",
      "Epoch 40/100\n",
      "7526/7526 [==============================] - 34s 5ms/step - loss: 92.6945 - val_loss: 183.4112\n",
      "Epoch 41/100\n",
      "7526/7526 [==============================] - 35s 5ms/step - loss: 92.3896 - val_loss: 205.9786\n",
      "Epoch 42/100\n",
      "7526/7526 [==============================] - 36s 5ms/step - loss: 92.3431 - val_loss: 185.7462\n",
      "Epoch 43/100\n",
      "7526/7526 [==============================] - 35s 5ms/step - loss: 92.0905 - val_loss: 173.2673\n",
      "Epoch 44/100\n",
      "7526/7526 [==============================] - 40s 5ms/step - loss: 91.9141 - val_loss: 183.7520\n",
      "Epoch 45/100\n",
      "7526/7526 [==============================] - 47s 6ms/step - loss: 91.7254 - val_loss: 175.4137\n",
      "Epoch 46/100\n",
      "7521/7526 [============================>.] - ETA: 0s - loss: 91.4613Restoring model weights from the end of the best epoch: 36.\n",
      "7526/7526 [==============================] - 46s 6ms/step - loss: 91.4332 - val_loss: 192.5364\n",
      "Epoch 46: early stopping\n"
     ]
    }
   ],
   "source": [
    "history_stacked_lstm = model_stacked_lstm.fit(\n",
    "    X_train_scaled, y_train_TSLA, \n",
    "    epochs=100, \n",
    "    batch_size=32, \n",
    "    validation_data=(X_val_scaled, y_val_TSLA), \n",
    "    callbacks=[early_stopping, ModelCheckpoint('stacked_model.h5', monitor='val_loss', save_best_only=True, save_weights_only=True)],\n",
    "    verbose=1\n",
    ")"
   ]
  },
  {
   "cell_type": "code",
   "execution_count": 187,
   "id": "877a3e20",
   "metadata": {},
   "outputs": [
    {
     "name": "stdout",
     "output_type": "stream",
     "text": [
      "2151/2151 [==============================] - 5s 2ms/step\n",
      "2-layer Stacked LSTM RMSE: 13.118825825381789\n"
     ]
    }
   ],
   "source": [
    "y_pred_stacked = model_stacked_lstm.predict(X_test_scaled)\n",
    "rmse_stacked= sqrt(mean_squared_error(y_test_TSLA, y_pred_stacked))\n",
    "print(f\"2-layer Stacked LSTM RMSE: {rmse_stacked}\")"
   ]
  },
  {
   "cell_type": "markdown",
   "id": "5eafce80",
   "metadata": {},
   "source": [
    "# 2-layer (LSTM + GRU)"
   ]
  },
  {
   "cell_type": "code",
   "execution_count": 36,
   "id": "b6e932e1",
   "metadata": {},
   "outputs": [],
   "source": [
    "from tensorflow.keras.layers import GRU\n",
    "\n",
    "# Define a model with LSTM and GRU layers combined\n",
    "def create_lstm_gru(input_shape):\n",
    "    model = Sequential()\n",
    "    model.add(LSTM(50, return_sequences=True, input_shape=input_shape))\n",
    "    model.add(GRU(50, return_sequences=False))\n",
    "    model.add(Dense(1))\n",
    "    model.compile(optimizer='adam', loss='mean_squared_error')\n",
    "    return model\n",
    "\n",
    "model_lstm_gru = create_lstm_gru(input_shape)"
   ]
  },
  {
   "cell_type": "code",
   "execution_count": 37,
   "id": "4493666f",
   "metadata": {},
   "outputs": [
    {
     "name": "stdout",
     "output_type": "stream",
     "text": [
      "Epoch 1/100\n",
      "7526/7526 [==============================] - 34s 4ms/step - loss: 579.3480 - val_loss: 409.7470\n",
      "Epoch 2/100\n",
      "7526/7526 [==============================] - 29s 4ms/step - loss: 112.7790 - val_loss: 231.8331\n",
      "Epoch 3/100\n",
      "7526/7526 [==============================] - 30s 4ms/step - loss: 106.6923 - val_loss: 223.0611\n",
      "Epoch 4/100\n",
      "7526/7526 [==============================] - 30s 4ms/step - loss: 104.0022 - val_loss: 213.5750\n",
      "Epoch 5/100\n",
      "7526/7526 [==============================] - 30s 4ms/step - loss: 102.0931 - val_loss: 207.9829\n",
      "Epoch 6/100\n",
      "7526/7526 [==============================] - 30s 4ms/step - loss: 101.3019 - val_loss: 209.9110\n",
      "Epoch 7/100\n",
      "7526/7526 [==============================] - 30s 4ms/step - loss: 100.7126 - val_loss: 204.6729\n",
      "Epoch 8/100\n",
      "7526/7526 [==============================] - 30s 4ms/step - loss: 100.2245 - val_loss: 226.8449\n",
      "Epoch 9/100\n",
      "7526/7526 [==============================] - 30s 4ms/step - loss: 99.5614 - val_loss: 191.7734\n",
      "Epoch 10/100\n",
      "7526/7526 [==============================] - 30s 4ms/step - loss: 98.9581 - val_loss: 177.2066\n",
      "Epoch 11/100\n",
      "7526/7526 [==============================] - 30s 4ms/step - loss: 98.5478 - val_loss: 209.2848\n",
      "Epoch 12/100\n",
      "7526/7526 [==============================] - 30s 4ms/step - loss: 98.1469 - val_loss: 191.1114\n",
      "Epoch 13/100\n",
      "7526/7526 [==============================] - 31s 4ms/step - loss: 97.8212 - val_loss: 187.2138\n",
      "Epoch 14/100\n",
      "7526/7526 [==============================] - 30s 4ms/step - loss: 97.3786 - val_loss: 189.5910\n",
      "Epoch 15/100\n",
      "7526/7526 [==============================] - 30s 4ms/step - loss: 97.3554 - val_loss: 176.6078\n",
      "Epoch 16/100\n",
      "7526/7526 [==============================] - 30s 4ms/step - loss: 96.9615 - val_loss: 183.3656\n",
      "Epoch 17/100\n",
      "7526/7526 [==============================] - 30s 4ms/step - loss: 96.4479 - val_loss: 194.3784\n",
      "Epoch 18/100\n",
      "7526/7526 [==============================] - 30s 4ms/step - loss: 96.3837 - val_loss: 217.7562\n",
      "Epoch 19/100\n",
      "7526/7526 [==============================] - 30s 4ms/step - loss: 96.2656 - val_loss: 195.6593\n",
      "Epoch 20/100\n",
      "7526/7526 [==============================] - 30s 4ms/step - loss: 96.1348 - val_loss: 177.6918\n",
      "Epoch 21/100\n",
      "7526/7526 [==============================] - 30s 4ms/step - loss: 95.7453 - val_loss: 207.1790\n",
      "Epoch 22/100\n",
      "7526/7526 [==============================] - 30s 4ms/step - loss: 95.5551 - val_loss: 196.9158\n",
      "Epoch 23/100\n",
      "7526/7526 [==============================] - 30s 4ms/step - loss: 95.2610 - val_loss: 182.2339\n",
      "Epoch 24/100\n",
      "7526/7526 [==============================] - 30s 4ms/step - loss: 94.8966 - val_loss: 201.0666\n",
      "Epoch 25/100\n",
      "7526/7526 [==============================] - 31s 4ms/step - loss: 94.7755 - val_loss: 191.6340\n"
     ]
    }
   ],
   "source": [
    "history_lstm_gru = model_lstm_gru.fit(\n",
    "    X_train_scaled, y_train_TSLA, \n",
    "    epochs=100, \n",
    "    batch_size=32, \n",
    "    validation_data=(X_val_scaled, y_val_TSLA), \n",
    "    callbacks=[early_stopping, ModelCheckpoint('combined_model.h5', monitor='val_loss', save_best_only=True, save_weights_only=True)],\n",
    "    verbose=1\n",
    ")"
   ]
  },
  {
   "cell_type": "code",
   "execution_count": 85,
   "id": "e5853f04",
   "metadata": {},
   "outputs": [
    {
     "name": "stdout",
     "output_type": "stream",
     "text": [
      "2151/2151 [==============================] - 3s 1ms/step\n",
      "LTSM + GRU RMSE: 13.12142414509326\n"
     ]
    }
   ],
   "source": [
    "y_pred_combined = model_lstm_gru.predict(X_test_scaled)\n",
    "rmse_combined= sqrt(mean_squared_error(y_test_TSLA, y_pred_combined))\n",
    "print(f\"LTSM + GRU RMSE: {rmse_combined}\")"
   ]
  },
  {
   "cell_type": "markdown",
   "id": "4692aac8",
   "metadata": {},
   "source": [
    "# 2-layer Stacked GRU"
   ]
  },
  {
   "cell_type": "code",
   "execution_count": 80,
   "id": "ff05cc87",
   "metadata": {},
   "outputs": [],
   "source": [
    "# Define a stacked GRU model\n",
    "def create_stacked_gru(input_shape):\n",
    "    model = Sequential()\n",
    "    model.add(GRU(50, return_sequences=True, input_shape=input_shape))\n",
    "    model.add(GRU(50, return_sequences=False))\n",
    "    model.add(Dense(1))\n",
    "    model.compile(optimizer='adam', loss='mean_squared_error')\n",
    "    return model\n",
    "\n",
    "input_shape = (X_train_scaled.shape[1], X_train_scaled.shape[2])\n",
    "model_stacked_gru = create_stacked_gru(input_shape)"
   ]
  },
  {
   "cell_type": "code",
   "execution_count": 81,
   "id": "0fb31eed",
   "metadata": {},
   "outputs": [
    {
     "name": "stdout",
     "output_type": "stream",
     "text": [
      "Epoch 1/100\n",
      "7526/7526 [==============================] - 42s 5ms/step - loss: 594.2678 - val_loss: 415.2550\n",
      "Epoch 2/100\n",
      "7526/7526 [==============================] - 43s 6ms/step - loss: 112.7414 - val_loss: 228.5597\n",
      "Epoch 3/100\n",
      "7526/7526 [==============================] - 46s 6ms/step - loss: 106.0785 - val_loss: 214.7909\n",
      "Epoch 4/100\n",
      "7526/7526 [==============================] - 47s 6ms/step - loss: 103.7874 - val_loss: 207.0939\n",
      "Epoch 5/100\n",
      "7526/7526 [==============================] - 47s 6ms/step - loss: 102.3247 - val_loss: 204.8532\n",
      "Epoch 6/100\n",
      "7526/7526 [==============================] - 42s 6ms/step - loss: 101.4719 - val_loss: 205.6804\n",
      "Epoch 7/100\n",
      "7526/7526 [==============================] - 41s 5ms/step - loss: 100.6173 - val_loss: 196.6072\n",
      "Epoch 8/100\n",
      "7526/7526 [==============================] - 41s 5ms/step - loss: 100.0034 - val_loss: 220.5123\n",
      "Epoch 9/100\n",
      "7526/7526 [==============================] - 45s 6ms/step - loss: 99.3094 - val_loss: 186.4050\n",
      "Epoch 10/100\n",
      "7526/7526 [==============================] - 42s 6ms/step - loss: 98.5816 - val_loss: 172.6935\n",
      "Epoch 11/100\n",
      "7526/7526 [==============================] - 39s 5ms/step - loss: 98.0202 - val_loss: 222.4208\n",
      "Epoch 12/100\n",
      "7526/7526 [==============================] - 38s 5ms/step - loss: 97.6919 - val_loss: 194.0525\n",
      "Epoch 13/100\n",
      "7526/7526 [==============================] - 39s 5ms/step - loss: 97.3277 - val_loss: 185.1270\n",
      "Epoch 14/100\n",
      "7526/7526 [==============================] - 39s 5ms/step - loss: 96.9363 - val_loss: 184.3035\n",
      "Epoch 15/100\n",
      "7519/7526 [============================>.] - ETA: 0s - loss: 96.9058Restoring model weights from the end of the best epoch: 10.\n",
      "7526/7526 [==============================] - 42s 6ms/step - loss: 96.8886 - val_loss: 179.2291\n",
      "Epoch 15: early stopping\n"
     ]
    }
   ],
   "source": [
    "history_lstm_gru = model_stacked_gru.fit(\n",
    "    X_train_scaled, y_train_TSLA, \n",
    "    epochs=100, \n",
    "    batch_size=32, \n",
    "    validation_data=(X_val_scaled, y_val_TSLA), \n",
    "    callbacks=[early_stopping, ModelCheckpoint('stackedgru_model.h5', monitor='val_loss', save_best_only=True, save_weights_only=True)],\n",
    "    verbose=1\n",
    ")"
   ]
  },
  {
   "cell_type": "code",
   "execution_count": 84,
   "id": "22daf7b5",
   "metadata": {},
   "outputs": [
    {
     "name": "stdout",
     "output_type": "stream",
     "text": [
      "2151/2151 [==============================] - 4s 2ms/step\n",
      "Stacked GRU RMSE: 13.204850080105079\n"
     ]
    }
   ],
   "source": [
    "y_pred_stacked_gru = model_stacked_gru.predict(X_test_scaled)\n",
    "rmse_stacked_gru= sqrt(mean_squared_error(y_test_TSLA, y_pred_stacked_gru))\n",
    "print(f\"2-layer Stacked GRU RMSE: {rmse_stacked_gru}\")"
   ]
  },
  {
   "cell_type": "markdown",
   "id": "2d30feac",
   "metadata": {},
   "source": [
    "# GRU + LSTM is the best model"
   ]
  },
  {
   "cell_type": "markdown",
   "id": "57eab5ef",
   "metadata": {},
   "source": [
    "# 3 stacked LSTM"
   ]
  },
  {
   "cell_type": "code",
   "execution_count": 246,
   "id": "7c46acdb",
   "metadata": {},
   "outputs": [],
   "source": [
    "# Define a GRU + LSTM + LSTM\n",
    "def create_stacked_lstm(input_shape):\n",
    "    model = Sequential()\n",
    "    model.add(LSTM(50, return_sequences=True, input_shape=input_shape))  \n",
    "    model.add(LSTM(50, return_sequences=True))  \n",
    "    model.add(LSTM(50, return_sequences=False))  \n",
    "    model.add(Dense(1))  # Output layer\n",
    "    model.compile(optimizer='adam', loss='mean_squared_error')\n",
    "    return model\n",
    "\n",
    "\n",
    "input_shape = (X_train_scaled.shape[1], X_train_scaled.shape[2])\n",
    "model_3stacked_lstm = create_stacked_lstm(input_shape)"
   ]
  },
  {
   "cell_type": "code",
   "execution_count": null,
   "id": "eefa07a0",
   "metadata": {},
   "outputs": [],
   "source": [
    "#ran already, kernel got restarted, rmse is as shown below\n",
    "history_3stacked_lstm = model_3stacked_lstm.fit(\n",
    "    X_train_scaled, y_train_TSLA, \n",
    "    epochs=100, \n",
    "    batch_size=32, \n",
    "    validation_data=(X_val_scaled, y_val_TSLA), \n",
    "    callbacks=[early_stopping, ModelCheckpoint('3stacked_model.h5', monitor='val_loss', save_best_only=True, save_weights_only=True)],\n",
    "    verbose=1\n",
    ")"
   ]
  },
  {
   "cell_type": "code",
   "execution_count": 256,
   "id": "70568da3",
   "metadata": {},
   "outputs": [
    {
     "name": "stdout",
     "output_type": "stream",
     "text": [
      "Stacked LSTM RMSE: 13.231426895850623\n"
     ]
    }
   ],
   "source": [
    "print(f\"Stacked LSTM RMSE: {rmse_3stacked}\")"
   ]
  },
  {
   "cell_type": "markdown",
   "id": "b3e58982",
   "metadata": {},
   "source": [
    "# Adding an additional layer does not improve RMSE, showing signs of overfitting"
   ]
  },
  {
   "cell_type": "markdown",
   "id": "93f33ed0",
   "metadata": {},
   "source": [
    "# CNN  "
   ]
  },
  {
   "cell_type": "markdown",
   "id": "f431c32f",
   "metadata": {},
   "source": [
    "# Data Preparation for  CNN and CNN + 2-layer Stacked LSTM"
   ]
  },
  {
   "cell_type": "code",
   "execution_count": 54,
   "id": "f284ba89",
   "metadata": {},
   "outputs": [],
   "source": [
    "# Initialize the scaler\n",
    "scaler = StandardScaler()\n",
    "\n",
    "# Fit on training data and transform training data\n",
    "X_train_scale2 = scaler.fit_transform(X_train_TSLA)\n",
    "\n",
    "# Transform validation and test data (do not fit the scaler on validation/test data to prevent data leakage)\n",
    "X_val_scale2 = scaler.transform(X_val_TSLA)\n",
    "X_test_scale2 = scaler.transform(X_test_TSLA)\n",
    "\n",
    "# Reshape the data for CNN input (adding a 'time' dimension of 1)\n",
    "X_train_cnn = X_train_scale2.reshape((X_train_scale2.shape[0], X_train_scale2.shape[1], 1))\n",
    "X_val_cnn = X_val_scale2.reshape((X_val_scale2.shape[0], X_val_scale2.shape[1], 1))\n",
    "X_test_cnn = X_test_scale2.reshape((X_test_scale2.shape[0], X_test_scale2.shape[1], 1))\n",
    "\n",
    "# For CNN-LSTM, you would add an additional 'subsequence' dimension.\n",
    "X_train_cnn_lstm = X_train_scale2.reshape((X_train_scale2.shape[0], 1, X_train_scale2.shape[1], 1))\n",
    "X_val_cnn_lstm = X_val_scale2.reshape((X_val_scale2.shape[0], 1, X_val_scale2.shape[1], 1))\n",
    "X_test_cnn_lstm = X_test_scale2.reshape((X_test_scale2.shape[0], 1, X_test_scale2.shape[1], 1))"
   ]
  },
  {
   "cell_type": "markdown",
   "id": "bca4b16e",
   "metadata": {},
   "source": [
    "# Simple CNN"
   ]
  },
  {
   "cell_type": "code",
   "execution_count": 135,
   "id": "805f8750",
   "metadata": {},
   "outputs": [],
   "source": [
    "cnn_model = Sequential()\n",
    "cnn_model.add(Conv1D(filters=64, kernel_size=3, activation='relu', input_shape=(X_train_cnn.shape[1], 1)))\n",
    "cnn_model.add(MaxPooling1D(pool_size=2))\n",
    "cnn_model.add(Flatten())\n",
    "cnn_model.add(Dense(50, activation='relu'))\n",
    "cnn_model.add(Dense(1))\n",
    "\n",
    "cnn_model.compile(optimizer='adam', loss='mean_squared_error')"
   ]
  },
  {
   "cell_type": "code",
   "execution_count": 137,
   "id": "ec2ecfc9",
   "metadata": {},
   "outputs": [
    {
     "name": "stdout",
     "output_type": "stream",
     "text": [
      "Epoch 1/100\n",
      "7526/7526 [==============================] - 26s 3ms/step - loss: 103.0780 - val_loss: 211.5577\n",
      "Epoch 2/100\n",
      "7526/7526 [==============================] - 25s 3ms/step - loss: 102.6830 - val_loss: 201.9665\n",
      "Epoch 3/100\n",
      "7526/7526 [==============================] - 25s 3ms/step - loss: 102.1156 - val_loss: 182.6901\n",
      "Epoch 4/100\n",
      "7526/7526 [==============================] - 27s 4ms/step - loss: 101.9740 - val_loss: 205.7232\n",
      "Epoch 5/100\n",
      "7526/7526 [==============================] - 22s 3ms/step - loss: 101.6305 - val_loss: 185.7883\n",
      "Epoch 6/100\n",
      "7526/7526 [==============================] - 27s 4ms/step - loss: 101.3977 - val_loss: 191.4959\n",
      "Epoch 7/100\n",
      "7526/7526 [==============================] - 28s 4ms/step - loss: 101.5643 - val_loss: 174.4438\n",
      "Epoch 8/100\n",
      "7526/7526 [==============================] - 26s 3ms/step - loss: 101.2044 - val_loss: 210.1582\n",
      "Epoch 9/100\n",
      "7526/7526 [==============================] - 25s 3ms/step - loss: 100.6631 - val_loss: 189.1281\n",
      "Epoch 10/100\n",
      "7526/7526 [==============================] - 24s 3ms/step - loss: 100.4578 - val_loss: 175.9214\n",
      "Epoch 11/100\n",
      "7526/7526 [==============================] - 25s 3ms/step - loss: 100.1114 - val_loss: 189.5574\n",
      "Epoch 12/100\n",
      "7526/7526 [==============================] - 30s 4ms/step - loss: 100.0342 - val_loss: 173.4856\n",
      "Epoch 13/100\n",
      "7526/7526 [==============================] - 25s 3ms/step - loss: 99.7743 - val_loss: 177.0224\n",
      "Epoch 14/100\n",
      "7526/7526 [==============================] - 18s 2ms/step - loss: 99.6182 - val_loss: 192.8881\n",
      "Epoch 15/100\n",
      "7526/7526 [==============================] - 18s 2ms/step - loss: 99.6076 - val_loss: 181.4581\n",
      "Epoch 16/100\n",
      "7526/7526 [==============================] - 18s 2ms/step - loss: 99.2095 - val_loss: 194.2179\n",
      "Epoch 17/100\n",
      "7526/7526 [==============================] - 18s 2ms/step - loss: 99.0311 - val_loss: 190.3298\n",
      "Epoch 18/100\n",
      "7526/7526 [==============================] - 18s 2ms/step - loss: 98.7902 - val_loss: 245.8187\n",
      "Epoch 19/100\n",
      "7526/7526 [==============================] - 18s 2ms/step - loss: 99.0604 - val_loss: 190.3427\n",
      "Epoch 20/100\n",
      "7526/7526 [==============================] - 18s 2ms/step - loss: 98.6922 - val_loss: 187.0204\n",
      "Epoch 21/100\n",
      "7526/7526 [==============================] - 25s 3ms/step - loss: 98.7454 - val_loss: 200.0453\n",
      "Epoch 22/100\n",
      "7506/7526 [============================>.] - ETA: 0s - loss: 98.3152Restoring model weights from the end of the best epoch: 12.\n",
      "7526/7526 [==============================] - 26s 3ms/step - loss: 98.2626 - val_loss: 199.1088\n",
      "Epoch 22: early stopping\n"
     ]
    }
   ],
   "source": [
    "# Train the model with early stopping\n",
    "history = cnn_model.fit(\n",
    "    X_train_cnn, \n",
    "    y_train_TSLA, \n",
    "    epochs=100, \n",
    "    batch_size=32, \n",
    "    validation_data=(X_val_cnn, y_val_TSLA),\n",
    "    callbacks=[early_stopping, ModelCheckpoint('cnn_model.h5', monitor='val_loss', save_best_only=True, save_weights_only=True)]\n",
    ")"
   ]
  },
  {
   "cell_type": "code",
   "execution_count": 138,
   "id": "c5fd872e",
   "metadata": {},
   "outputs": [
    {
     "name": "stdout",
     "output_type": "stream",
     "text": [
      "2151/2151 [==============================] - 4s 2ms/step\n",
      "CNN RMSE: 13.798351558160618\n"
     ]
    }
   ],
   "source": [
    "y_pred_cnn = cnn_model.predict(X_test_cnn)\n",
    "rmse_cnn = sqrt(mean_squared_error(y_test_TSLA, y_pred_cnn))\n",
    "print(f\"CNN RMSE: {rmse_cnn}\")"
   ]
  },
  {
   "cell_type": "markdown",
   "id": "279ff50e",
   "metadata": {},
   "source": [
    "# Complex CNN"
   ]
  },
  {
   "cell_type": "code",
   "execution_count": 180,
   "id": "30143211",
   "metadata": {},
   "outputs": [
    {
     "name": "stdout",
     "output_type": "stream",
     "text": [
      "Model: \"sequential_46\"\n",
      "_________________________________________________________________\n",
      " Layer (type)                Output Shape              Param #   \n",
      "=================================================================\n",
      " conv1d_15 (Conv1D)          (None, 21, 64)            256       \n",
      "                                                                 \n",
      " batch_normalization_4 (Bat  (None, 21, 64)            256       \n",
      " chNormalization)                                                \n",
      "                                                                 \n",
      " max_pooling1d_15 (MaxPooli  (None, 10, 64)            0         \n",
      " ng1D)                                                           \n",
      "                                                                 \n",
      " dropout_7 (Dropout)         (None, 10, 64)            0         \n",
      "                                                                 \n",
      " conv1d_16 (Conv1D)          (None, 8, 128)            24704     \n",
      "                                                                 \n",
      " batch_normalization_5 (Bat  (None, 8, 128)            512       \n",
      " chNormalization)                                                \n",
      "                                                                 \n",
      " max_pooling1d_16 (MaxPooli  (None, 4, 128)            0         \n",
      " ng1D)                                                           \n",
      "                                                                 \n",
      " dropout_8 (Dropout)         (None, 4, 128)            0         \n",
      "                                                                 \n",
      " flatten_15 (Flatten)        (None, 512)               0         \n",
      "                                                                 \n",
      " dense_49 (Dense)            (None, 64)                32832     \n",
      "                                                                 \n",
      " dropout_9 (Dropout)         (None, 64)                0         \n",
      "                                                                 \n",
      " dense_50 (Dense)            (None, 1)                 65        \n",
      "                                                                 \n",
      "=================================================================\n",
      "Total params: 58625 (229.00 KB)\n",
      "Trainable params: 58241 (227.50 KB)\n",
      "Non-trainable params: 384 (1.50 KB)\n",
      "_________________________________________________________________\n"
     ]
    }
   ],
   "source": [
    "from tensorflow.keras.models import Sequential\n",
    "from tensorflow.keras.layers import Conv1D, MaxPooling1D, Flatten, Dense, Dropout, BatchNormalization\n",
    "\n",
    "# Define the CNN model\n",
    "complex_cnn_model = Sequential()\n",
    "\n",
    "# First Convolutional Layer\n",
    "complex_cnn_model.add(Conv1D(filters=64, kernel_size=3, activation='relu', input_shape=(X_train_cnn.shape[1], 1)))\n",
    "complex_cnn_model.add(BatchNormalization())\n",
    "complex_cnn_model.add(MaxPooling1D(pool_size=2))\n",
    "complex_cnn_model.add(Dropout(0.2))\n",
    "\n",
    "# Second Convolutional Layer\n",
    "complex_cnn_model.add(Conv1D(filters=128, kernel_size=3, activation='relu'))\n",
    "complex_cnn_model.add(BatchNormalization())\n",
    "complex_cnn_model.add(MaxPooling1D(pool_size=2))\n",
    "complex_cnn_model.add(Dropout(0.3))\n",
    "\n",
    "# Flattening Layer\n",
    "complex_cnn_model.add(Flatten())\n",
    "\n",
    "# Dense Layers\n",
    "complex_cnn_model.add(Dense(64, activation='relu'))\n",
    "complex_cnn_model.add(Dropout(0.5))\n",
    "\n",
    "# Output Layer\n",
    "complex_cnn_model.add(Dense(1))\n",
    "\n",
    "# Compile the model\n",
    "complex_cnn_model.compile(optimizer='adam', loss='mean_squared_error')\n",
    "\n",
    "# Model Summary\n",
    "complex_cnn_model.summary()"
   ]
  },
  {
   "cell_type": "code",
   "execution_count": 197,
   "id": "cd14db00",
   "metadata": {},
   "outputs": [
    {
     "name": "stdout",
     "output_type": "stream",
     "text": [
      "Epoch 1/100\n",
      "7526/7526 [==============================] - 50s 7ms/step - loss: 217.7218 - val_loss: 309.9530\n",
      "Epoch 2/100\n",
      "7526/7526 [==============================] - 51s 7ms/step - loss: 212.6787 - val_loss: 324.5666\n",
      "Epoch 3/100\n",
      "7526/7526 [==============================] - 50s 7ms/step - loss: 208.0553 - val_loss: 220.0008\n",
      "Epoch 4/100\n",
      "7526/7526 [==============================] - 51s 7ms/step - loss: 204.0319 - val_loss: 300.1163\n",
      "Epoch 5/100\n",
      "7526/7526 [==============================] - 51s 7ms/step - loss: 198.1413 - val_loss: 287.2087\n",
      "Epoch 6/100\n",
      "7526/7526 [==============================] - 51s 7ms/step - loss: 200.5721 - val_loss: 341.4955\n",
      "Epoch 7/100\n",
      "7526/7526 [==============================] - 50s 7ms/step - loss: 196.3800 - val_loss: 307.7090\n",
      "Epoch 8/100\n",
      "7526/7526 [==============================] - 50s 7ms/step - loss: 191.5094 - val_loss: 334.1303\n",
      "Epoch 9/100\n",
      "7526/7526 [==============================] - 52s 7ms/step - loss: 191.7944 - val_loss: 305.1982\n",
      "Epoch 10/100\n",
      "7526/7526 [==============================] - 51s 7ms/step - loss: 191.4211 - val_loss: 290.8456\n",
      "Epoch 11/100\n",
      "7526/7526 [==============================] - 51s 7ms/step - loss: 190.0716 - val_loss: 438.2212\n",
      "Epoch 12/100\n",
      "7526/7526 [==============================] - 51s 7ms/step - loss: 190.2774 - val_loss: 256.1375\n",
      "Epoch 13/100\n",
      "7519/7526 [============================>.] - ETA: 0s - loss: 188.2946Restoring model weights from the end of the best epoch: 3.\n",
      "7526/7526 [==============================] - 51s 7ms/step - loss: 188.2961 - val_loss: 256.1750\n",
      "Epoch 13: early stopping\n"
     ]
    }
   ],
   "source": [
    "history = complex_cnn_model.fit(\n",
    "    X_train_cnn, \n",
    "    y_train_TSLA, \n",
    "    epochs=100, \n",
    "    batch_size=32, \n",
    "    validation_data=(X_val_cnn, y_val_TSLA),\n",
    "    callbacks=[early_stopping, ModelCheckpoint('complex_cnn_model.h5', monitor='val_loss', save_best_only=True, save_weights_only=True)]\n",
    ")"
   ]
  },
  {
   "cell_type": "code",
   "execution_count": 210,
   "id": "20793ac6",
   "metadata": {},
   "outputs": [
    {
     "name": "stdout",
     "output_type": "stream",
     "text": [
      "2151/2151 [==============================] - 5s 2ms/step\n",
      "Complex CNN RMSE: 15.273652375925897\n"
     ]
    }
   ],
   "source": [
    "y_pred_complex_cnn = complex_cnn_model.predict(X_test_cnn)\n",
    "rmse_complex_cnn = sqrt(mean_squared_error(y_test_TSLA, y_pred_complex_cnn))\n",
    "print(f\"Complex CNN RMSE: {rmse_complex_cnn}\")"
   ]
  },
  {
   "cell_type": "code",
   "execution_count": 198,
   "id": "ff3dde06",
   "metadata": {},
   "outputs": [
    {
     "name": "stdout",
     "output_type": "stream",
     "text": [
      "Model: \"sequential_51\"\n",
      "_________________________________________________________________\n",
      " Layer (type)                Output Shape              Param #   \n",
      "=================================================================\n",
      " conv1d_17 (Conv1D)          (None, 21, 64)            256       \n",
      "                                                                 \n",
      " batch_normalization_6 (Bat  (None, 21, 64)            256       \n",
      " chNormalization)                                                \n",
      "                                                                 \n",
      " max_pooling1d_17 (MaxPooli  (None, 10, 64)            0         \n",
      " ng1D)                                                           \n",
      "                                                                 \n",
      " dropout_10 (Dropout)        (None, 10, 64)            0         \n",
      "                                                                 \n",
      " conv1d_18 (Conv1D)          (None, 8, 128)            24704     \n",
      "                                                                 \n",
      " batch_normalization_7 (Bat  (None, 8, 128)            512       \n",
      " chNormalization)                                                \n",
      "                                                                 \n",
      " max_pooling1d_18 (MaxPooli  (None, 4, 128)            0         \n",
      " ng1D)                                                           \n",
      "                                                                 \n",
      " dropout_11 (Dropout)        (None, 4, 128)            0         \n",
      "                                                                 \n",
      " conv1d_19 (Conv1D)          (None, 2, 256)            98560     \n",
      "                                                                 \n",
      " batch_normalization_8 (Bat  (None, 2, 256)            1024      \n",
      " chNormalization)                                                \n",
      "                                                                 \n",
      " max_pooling1d_19 (MaxPooli  (None, 1, 256)            0         \n",
      " ng1D)                                                           \n",
      "                                                                 \n",
      " dropout_12 (Dropout)        (None, 1, 256)            0         \n",
      "                                                                 \n",
      " flatten_16 (Flatten)        (None, 256)               0         \n",
      "                                                                 \n",
      " dense_55 (Dense)            (None, 128)               32896     \n",
      "                                                                 \n",
      " dropout_13 (Dropout)        (None, 128)               0         \n",
      "                                                                 \n",
      " dense_56 (Dense)            (None, 64)                8256      \n",
      "                                                                 \n",
      " dropout_14 (Dropout)        (None, 64)                0         \n",
      "                                                                 \n",
      " dense_57 (Dense)            (None, 1)                 65        \n",
      "                                                                 \n",
      "=================================================================\n",
      "Total params: 166529 (650.50 KB)\n",
      "Trainable params: 165633 (647.00 KB)\n",
      "Non-trainable params: 896 (3.50 KB)\n",
      "_________________________________________________________________\n"
     ]
    }
   ],
   "source": [
    "from tensorflow.keras.models import Sequential\n",
    "from tensorflow.keras.layers import Conv1D, MaxPooling1D, Flatten, Dense, Dropout, BatchNormalization\n",
    "\n",
    "# Define the CNN model\n",
    "complex_cnn_model2 = Sequential()\n",
    "\n",
    "# First Convolutional Layer\n",
    "complex_cnn_model2.add(Conv1D(filters=64, kernel_size=3, activation='relu', input_shape=(X_train_cnn.shape[1], 1)))\n",
    "complex_cnn_model2.add(BatchNormalization())\n",
    "complex_cnn_model2.add(MaxPooling1D(pool_size=2))\n",
    "complex_cnn_model2.add(Dropout(0.2))\n",
    "\n",
    "# Second Convolutional Layer\n",
    "complex_cnn_model2.add(Conv1D(filters=128, kernel_size=3, activation='relu'))\n",
    "complex_cnn_model2.add(BatchNormalization())\n",
    "complex_cnn_model2.add(MaxPooling1D(pool_size=2))\n",
    "complex_cnn_model2.add(Dropout(0.3))\n",
    "\n",
    "# Third Convolutional Layer\n",
    "complex_cnn_model2.add(Conv1D(filters=256, kernel_size=3, activation='relu'))\n",
    "complex_cnn_model2.add(BatchNormalization())\n",
    "complex_cnn_model2.add(MaxPooling1D(pool_size=2))\n",
    "complex_cnn_model2.add(Dropout(0.4))\n",
    "\n",
    "# Flattening Layer\n",
    "complex_cnn_model2.add(Flatten())\n",
    "\n",
    "# Dense Layers\n",
    "complex_cnn_model2.add(Dense(128, activation='relu'))\n",
    "complex_cnn_model2.add(Dropout(0.5))\n",
    "complex_cnn_model2.add(Dense(64, activation='relu'))\n",
    "complex_cnn_model2.add(Dropout(0.5))\n",
    "\n",
    "# Output Layer\n",
    "complex_cnn_model2.add(Dense(1))\n",
    "\n",
    "# Compile the model\n",
    "complex_cnn_model2.compile(optimizer='adam', loss='mean_squared_error')\n",
    "\n",
    "# Model Summary\n",
    "complex_cnn_model2.summary()\n"
   ]
  },
  {
   "cell_type": "code",
   "execution_count": 199,
   "id": "3a8f7f33",
   "metadata": {},
   "outputs": [
    {
     "name": "stdout",
     "output_type": "stream",
     "text": [
      "Epoch 1/100\n",
      "7526/7526 [==============================] - 78s 10ms/step - loss: 386.2731 - val_loss: 265.1779\n",
      "Epoch 2/100\n",
      "7526/7526 [==============================] - 77s 10ms/step - loss: 290.9915 - val_loss: 303.9330\n",
      "Epoch 3/100\n",
      "7526/7526 [==============================] - 76s 10ms/step - loss: 270.9557 - val_loss: 211.9121\n",
      "Epoch 4/100\n",
      "7526/7526 [==============================] - 77s 10ms/step - loss: 257.8607 - val_loss: 227.5210\n",
      "Epoch 5/100\n",
      "7526/7526 [==============================] - 76s 10ms/step - loss: 244.4459 - val_loss: 393.7065\n",
      "Epoch 6/100\n",
      "7526/7526 [==============================] - 76s 10ms/step - loss: 234.0663 - val_loss: 328.6454\n",
      "Epoch 7/100\n",
      "7526/7526 [==============================] - 77s 10ms/step - loss: 227.4417 - val_loss: 274.8105\n",
      "Epoch 8/100\n",
      "7526/7526 [==============================] - 76s 10ms/step - loss: 224.1438 - val_loss: 450.9078\n",
      "Epoch 9/100\n",
      "7526/7526 [==============================] - 77s 10ms/step - loss: 219.7783 - val_loss: 261.1671\n",
      "Epoch 10/100\n",
      "7526/7526 [==============================] - 77s 10ms/step - loss: 216.5647 - val_loss: 192.5765\n",
      "Epoch 11/100\n",
      "7526/7526 [==============================] - 77s 10ms/step - loss: 214.5176 - val_loss: 367.0883\n",
      "Epoch 12/100\n",
      "7526/7526 [==============================] - 77s 10ms/step - loss: 215.2596 - val_loss: 243.8359\n",
      "Epoch 13/100\n",
      "7526/7526 [==============================] - 76s 10ms/step - loss: 211.4900 - val_loss: 237.9132\n",
      "Epoch 14/100\n",
      "7526/7526 [==============================] - 76s 10ms/step - loss: 209.3828 - val_loss: 341.6427\n",
      "Epoch 15/100\n",
      "7526/7526 [==============================] - 76s 10ms/step - loss: 211.2266 - val_loss: 260.4977\n",
      "Epoch 16/100\n",
      "7526/7526 [==============================] - 76s 10ms/step - loss: 209.0896 - val_loss: 303.8775\n",
      "Epoch 17/100\n",
      "7526/7526 [==============================] - 76s 10ms/step - loss: 206.6597 - val_loss: 274.1792\n",
      "Epoch 18/100\n",
      "7526/7526 [==============================] - 76s 10ms/step - loss: 204.7855 - val_loss: 355.6336\n",
      "Epoch 19/100\n",
      "7526/7526 [==============================] - 77s 10ms/step - loss: 205.2476 - val_loss: 304.2216\n",
      "Epoch 20/100\n",
      "7525/7526 [============================>.] - ETA: 0s - loss: 205.6323Restoring model weights from the end of the best epoch: 10.\n",
      "7526/7526 [==============================] - 76s 10ms/step - loss: 205.6312 - val_loss: 332.8312\n",
      "Epoch 20: early stopping\n"
     ]
    }
   ],
   "source": [
    "history = complex_cnn_model2.fit(\n",
    "    X_train_cnn, \n",
    "    y_train_TSLA, \n",
    "    epochs=100, \n",
    "    batch_size=32, \n",
    "    validation_data=(X_val_cnn, y_val_TSLA),\n",
    "    callbacks=[early_stopping, ModelCheckpoint('complex_cnn_model2.h5', monitor='val_loss', save_best_only=True, save_weights_only=True)]\n",
    ")"
   ]
  },
  {
   "cell_type": "code",
   "execution_count": 211,
   "id": "37acc50f",
   "metadata": {},
   "outputs": [
    {
     "name": "stdout",
     "output_type": "stream",
     "text": [
      "2151/2151 [==============================] - 6s 3ms/step\n",
      "Complex CNN 2 RMSE: 14.190275015837965\n"
     ]
    }
   ],
   "source": [
    "y_pred_complex_cnn2 = complex_cnn_model2.predict(X_test_cnn)\n",
    "rmse_complex_cnn2 = sqrt(mean_squared_error(y_test_TSLA, y_pred_complex_cnn2))\n",
    "print(f\"Complex CNN 2 RMSE: {rmse_complex_cnn2}\")"
   ]
  },
  {
   "cell_type": "markdown",
   "id": "0fcf23f3",
   "metadata": {},
   "source": [
    "# CNN + Stacked LSTM "
   ]
  },
  {
   "cell_type": "code",
   "execution_count": 139,
   "id": "8e2fa40c",
   "metadata": {},
   "outputs": [],
   "source": [
    "cnn_stacked_lstm_model = Sequential()\n",
    "cnn_stacked_lstm_model.add(TimeDistributed(Conv1D(filters=64, kernel_size=3, activation='relu'), input_shape=(None, X_train_cnn.shape[1], 1)))\n",
    "cnn_stacked_lstm_model.add(TimeDistributed(MaxPooling1D(pool_size=2)))\n",
    "cnn_stacked_lstm_model.add(TimeDistributed(Flatten()))\n",
    "cnn_stacked_lstm_model.add(LSTM(50, return_sequences=True))\n",
    "cnn_stacked_lstm_model.add(LSTM(50))\n",
    "cnn_stacked_lstm_model.add(Dense(1))\n",
    "\n",
    "cnn_stacked_lstm_model.compile(optimizer='adam', loss='mean_squared_error')"
   ]
  },
  {
   "cell_type": "code",
   "execution_count": 140,
   "id": "95256fc3",
   "metadata": {},
   "outputs": [
    {
     "name": "stdout",
     "output_type": "stream",
     "text": [
      "Epoch 1/100\n",
      "7526/7526 [==============================] - 80s 10ms/step - loss: 826.7011 - val_loss: 547.1683\n",
      "Epoch 2/100\n",
      "7526/7526 [==============================] - 79s 11ms/step - loss: 112.3893 - val_loss: 235.4584\n",
      "Epoch 3/100\n",
      "7526/7526 [==============================] - 83s 11ms/step - loss: 101.9090 - val_loss: 202.3958\n",
      "Epoch 4/100\n",
      "7526/7526 [==============================] - 85s 11ms/step - loss: 99.9412 - val_loss: 209.5016\n",
      "Epoch 5/100\n",
      "7526/7526 [==============================] - 89s 12ms/step - loss: 98.9597 - val_loss: 199.2847\n",
      "Epoch 6/100\n",
      "7526/7526 [==============================] - 72s 10ms/step - loss: 98.2007 - val_loss: 199.9059\n",
      "Epoch 7/100\n",
      "7526/7526 [==============================] - 74s 10ms/step - loss: 97.6086 - val_loss: 192.5478\n",
      "Epoch 8/100\n",
      "7526/7526 [==============================] - 73s 10ms/step - loss: 97.1535 - val_loss: 211.3246\n",
      "Epoch 9/100\n",
      "7526/7526 [==============================] - 69s 9ms/step - loss: 96.4389 - val_loss: 185.4641\n",
      "Epoch 10/100\n",
      "7526/7526 [==============================] - 72s 10ms/step - loss: 95.5786 - val_loss: 175.9812\n",
      "Epoch 11/100\n",
      "7526/7526 [==============================] - 79s 11ms/step - loss: 94.9446 - val_loss: 190.5470\n",
      "Epoch 12/100\n",
      "7526/7526 [==============================] - 77s 10ms/step - loss: 94.4482 - val_loss: 186.0030\n",
      "Epoch 13/100\n",
      "7526/7526 [==============================] - 83s 11ms/step - loss: 93.4416 - val_loss: 179.2118\n",
      "Epoch 14/100\n",
      "7526/7526 [==============================] - 83s 11ms/step - loss: 92.9458 - val_loss: 177.4524\n",
      "Epoch 15/100\n",
      "7526/7526 [==============================] - 81s 11ms/step - loss: 92.4963 - val_loss: 184.3554\n",
      "Epoch 16/100\n",
      "7526/7526 [==============================] - 93s 12ms/step - loss: 92.5299 - val_loss: 176.4123\n",
      "Epoch 17/100\n",
      "7526/7526 [==============================] - 80s 11ms/step - loss: 92.1351 - val_loss: 195.6470\n",
      "Epoch 18/100\n",
      "7526/7526 [==============================] - 80s 11ms/step - loss: 92.1596 - val_loss: 205.7337\n",
      "Epoch 19/100\n",
      "7526/7526 [==============================] - 79s 11ms/step - loss: 91.5624 - val_loss: 194.5400\n",
      "Epoch 20/100\n",
      "7521/7526 [============================>.] - ETA: 0s - loss: 90.6292Restoring model weights from the end of the best epoch: 10.\n",
      "7526/7526 [==============================] - 74s 10ms/step - loss: 90.6313 - val_loss: 202.6061\n",
      "Epoch 20: early stopping\n"
     ]
    }
   ],
   "source": [
    "# Train the model with early stopping\n",
    "history_cnn_stacked_lstm = cnn_stacked_lstm_model.fit(\n",
    "    X_train_cnn_lstm, \n",
    "    y_train_TSLA, \n",
    "    epochs=100, \n",
    "    batch_size=32, \n",
    "    validation_data=(X_val_cnn_lstm, y_val_TSLA),\n",
    "    callbacks=[early_stopping]\n",
    ")"
   ]
  },
  {
   "cell_type": "code",
   "execution_count": 141,
   "id": "c529835e",
   "metadata": {},
   "outputs": [
    {
     "name": "stdout",
     "output_type": "stream",
     "text": [
      "2151/2151 [==============================] - 9s 4ms/step\n",
      "CNN + LSTM RMSE: 13.488037098294807\n"
     ]
    }
   ],
   "source": [
    "y_pred_cnn_lstm = cnn_stacked_lstm_model.predict(X_test_cnn_lstm)\n",
    "rmse_cnn_lstm = sqrt(mean_squared_error(y_test_TSLA, y_pred_cnn_lstm))\n",
    "print(f\"CNN + stacked LSTM RMSE: {rmse_cnn_lstm}\")"
   ]
  },
  {
   "cell_type": "markdown",
   "id": "2a2d4262",
   "metadata": {},
   "source": [
    "# CNN + GRU"
   ]
  },
  {
   "cell_type": "code",
   "execution_count": 142,
   "id": "9c89df24",
   "metadata": {},
   "outputs": [],
   "source": [
    "from tensorflow.keras.layers import GRU\n",
    "\n",
    "cnn_gru_model = Sequential()\n",
    "cnn_gru_model.add(TimeDistributed(Conv1D(filters=64, kernel_size=3, activation='relu'), input_shape=(None, X_train_cnn.shape[1], 1)))\n",
    "cnn_gru_model.add(TimeDistributed(MaxPooling1D(pool_size=2)))\n",
    "cnn_gru_model.add(TimeDistributed(Flatten()))\n",
    "cnn_gru_model.add(GRU(50))\n",
    "cnn_gru_model.add(Dense(1))\n",
    "\n",
    "cnn_gru_model.compile(optimizer='adam', loss='mean_squared_error')"
   ]
  },
  {
   "cell_type": "code",
   "execution_count": 143,
   "id": "fc9c5982",
   "metadata": {},
   "outputs": [
    {
     "name": "stdout",
     "output_type": "stream",
     "text": [
      "Epoch 1/100\n",
      "7526/7526 [==============================] - 56s 7ms/step - loss: 606.8679 - val_loss: 404.2656\n",
      "Epoch 2/100\n",
      "7526/7526 [==============================] - 51s 7ms/step - loss: 108.2053 - val_loss: 223.3151\n",
      "Epoch 3/100\n",
      "7526/7526 [==============================] - 50s 7ms/step - loss: 102.0800 - val_loss: 208.1203\n",
      "Epoch 4/100\n",
      "7526/7526 [==============================] - 52s 7ms/step - loss: 100.3137 - val_loss: 201.5605\n",
      "Epoch 5/100\n",
      "7526/7526 [==============================] - 58s 8ms/step - loss: 99.2891 - val_loss: 200.6890\n",
      "Epoch 6/100\n",
      "7526/7526 [==============================] - 53s 7ms/step - loss: 98.5683 - val_loss: 215.6729\n",
      "Epoch 7/100\n",
      "7526/7526 [==============================] - 54s 7ms/step - loss: 97.9721 - val_loss: 203.2950\n",
      "Epoch 8/100\n",
      "7526/7526 [==============================] - 54s 7ms/step - loss: 97.4067 - val_loss: 221.2670\n",
      "Epoch 9/100\n",
      "7526/7526 [==============================] - 52s 7ms/step - loss: 97.0882 - val_loss: 188.7375\n",
      "Epoch 10/100\n",
      "7526/7526 [==============================] - 56s 7ms/step - loss: 96.3727 - val_loss: 179.7839\n",
      "Epoch 11/100\n",
      "7526/7526 [==============================] - 54s 7ms/step - loss: 96.1802 - val_loss: 205.5213\n",
      "Epoch 12/100\n",
      "7526/7526 [==============================] - 50s 7ms/step - loss: 95.5458 - val_loss: 186.7020\n",
      "Epoch 13/100\n",
      "7526/7526 [==============================] - 57s 8ms/step - loss: 95.0746 - val_loss: 191.3228\n",
      "Epoch 14/100\n",
      "7526/7526 [==============================] - 61s 8ms/step - loss: 94.6254 - val_loss: 186.9182\n",
      "Epoch 15/100\n",
      "7526/7526 [==============================] - 49s 7ms/step - loss: 94.4309 - val_loss: 181.0164\n",
      "Epoch 16/100\n",
      "7526/7526 [==============================] - 56s 7ms/step - loss: 93.8507 - val_loss: 177.7548\n",
      "Epoch 17/100\n",
      "7526/7526 [==============================] - 59s 8ms/step - loss: 93.3035 - val_loss: 184.6781\n",
      "Epoch 18/100\n",
      "7526/7526 [==============================] - 50s 7ms/step - loss: 93.0566 - val_loss: 207.9760\n",
      "Epoch 19/100\n",
      "7526/7526 [==============================] - 50s 7ms/step - loss: 93.1231 - val_loss: 186.5102\n",
      "Epoch 20/100\n",
      "7526/7526 [==============================] - 57s 8ms/step - loss: 92.4809 - val_loss: 182.0713\n",
      "Epoch 21/100\n",
      "7526/7526 [==============================] - 67s 9ms/step - loss: 92.1262 - val_loss: 192.2454\n",
      "Epoch 22/100\n",
      "7526/7526 [==============================] - 72s 10ms/step - loss: 91.7504 - val_loss: 188.9147\n",
      "Epoch 23/100\n",
      "7526/7526 [==============================] - 57s 8ms/step - loss: 91.5630 - val_loss: 178.6287\n",
      "Epoch 24/100\n",
      "7526/7526 [==============================] - 58s 8ms/step - loss: 91.1288 - val_loss: 198.1607\n",
      "Epoch 25/100\n",
      "7526/7526 [==============================] - 60s 8ms/step - loss: 91.4326 - val_loss: 186.9693\n",
      "Epoch 26/100\n",
      "7526/7526 [==============================] - 51s 7ms/step - loss: 90.8921 - val_loss: 177.6822\n",
      "Epoch 27/100\n",
      "7526/7526 [==============================] - 43s 6ms/step - loss: 90.5543 - val_loss: 181.6862\n",
      "Epoch 28/100\n",
      "7526/7526 [==============================] - 45s 6ms/step - loss: 90.3771 - val_loss: 199.4116\n",
      "Epoch 29/100\n",
      "7526/7526 [==============================] - 63s 8ms/step - loss: 90.2197 - val_loss: 194.2855\n",
      "Epoch 30/100\n",
      "7526/7526 [==============================] - 54s 7ms/step - loss: 89.6758 - val_loss: 170.6774\n",
      "Epoch 31/100\n",
      "7526/7526 [==============================] - 49s 7ms/step - loss: 89.4757 - val_loss: 169.2340\n",
      "Epoch 32/100\n",
      "7526/7526 [==============================] - 55s 7ms/step - loss: 89.5038 - val_loss: 197.4542\n",
      "Epoch 33/100\n",
      "7526/7526 [==============================] - 56s 7ms/step - loss: 89.2979 - val_loss: 180.6965\n",
      "Epoch 34/100\n",
      "7526/7526 [==============================] - 50s 7ms/step - loss: 89.3616 - val_loss: 186.9342\n",
      "Epoch 35/100\n",
      "7526/7526 [==============================] - 52s 7ms/step - loss: 88.7034 - val_loss: 190.6299\n",
      "Epoch 36/100\n",
      "7526/7526 [==============================] - 54s 7ms/step - loss: 88.5138 - val_loss: 177.7173\n",
      "Epoch 37/100\n",
      "7526/7526 [==============================] - 63s 8ms/step - loss: 87.9295 - val_loss: 172.6935\n",
      "Epoch 38/100\n",
      "7526/7526 [==============================] - 50s 7ms/step - loss: 88.1974 - val_loss: 191.8548\n",
      "Epoch 39/100\n",
      "7526/7526 [==============================] - 57s 8ms/step - loss: 87.9332 - val_loss: 172.3116\n",
      "Epoch 40/100\n",
      "7526/7526 [==============================] - 54s 7ms/step - loss: 87.5639 - val_loss: 187.9366\n",
      "Epoch 41/100\n",
      "7525/7526 [============================>.] - ETA: 0s - loss: 87.1203Restoring model weights from the end of the best epoch: 31.\n",
      "7526/7526 [==============================] - 58s 8ms/step - loss: 87.1197 - val_loss: 199.5953\n",
      "Epoch 41: early stopping\n"
     ]
    }
   ],
   "source": [
    "# Early Stopping callback\n",
    "early_stopping = EarlyStopping(monitor='val_loss', patience=10, verbose=1, mode='min', restore_best_weights=True)\n",
    "\n",
    "# Train the model with early stopping\n",
    "history_cnn_gru = cnn_gru_model.fit(\n",
    "    X_train_cnn_lstm, \n",
    "    y_train_TSLA, \n",
    "    epochs=100, \n",
    "    batch_size=32, \n",
    "    validation_data=(X_val_cnn_lstm, y_val_TSLA),\n",
    "    callbacks=[early_stopping]\n",
    ")"
   ]
  },
  {
   "cell_type": "code",
   "execution_count": 144,
   "id": "3199cc17",
   "metadata": {},
   "outputs": [
    {
     "name": "stdout",
     "output_type": "stream",
     "text": [
      "2151/2151 [==============================] - 8s 3ms/step\n",
      "CNN + GRU RMSE: 13.634461688558327\n"
     ]
    }
   ],
   "source": [
    "y_pred_hybrid = cnn_gru_model.predict(X_test_cnn_lstm)\n",
    "rmse_hybrid = sqrt(mean_squared_error(y_test_TSLA, y_pred_hybrid))\n",
    "print(f\"CNN + GRU RMSE: {rmse_hybrid}\")"
   ]
  },
  {
   "cell_type": "markdown",
   "id": "e1ad0129",
   "metadata": {},
   "source": [
    "# Hyperparameter tuning of Stacked LSTM"
   ]
  },
  {
   "cell_type": "code",
   "execution_count": 89,
   "id": "d19881a7",
   "metadata": {},
   "outputs": [],
   "source": [
    "from tensorflow.keras.models import Sequential\n",
    "from tensorflow.keras.layers import LSTM, Dense\n",
    "\n",
    "# Define a stacked LSTM model\n",
    "def create_stacked_lstm(input_shape):\n",
    "    model = Sequential()\n",
    "    model.add(LSTM(50, return_sequences=True, input_shape=input_shape))\n",
    "    model.add(LSTM(50, return_sequences=False))\n",
    "    model.add(Dense(1))\n",
    "    model.add(BatchNormalization())\n",
    "    model.compile(optimizer='adam', loss='mean_squared_error')\n",
    "    return model\n",
    "\n",
    "# Assuming input_shape has been defined based on your scaled training data\n",
    "input_shape = (X_train_scaled.shape[1], X_train_scaled.shape[2])\n",
    "model_stacked_lstm2 = create_stacked_lstm(input_shape)"
   ]
  },
  {
   "cell_type": "code",
   "execution_count": 90,
   "id": "fd2d65f8",
   "metadata": {},
   "outputs": [
    {
     "name": "stdout",
     "output_type": "stream",
     "text": [
      "Epoch 1/100\n",
      "7526/7526 [==============================] - 52s 6ms/step - loss: 3498.0217 - val_loss: 6638.5068\n",
      "Epoch 2/100\n",
      "7526/7526 [==============================] - 50s 7ms/step - loss: 2450.1233 - val_loss: 4628.6494\n",
      "Epoch 3/100\n",
      "7526/7526 [==============================] - 51s 7ms/step - loss: 1620.6699 - val_loss: 2982.6968\n",
      "Epoch 4/100\n",
      "7526/7526 [==============================] - 53s 7ms/step - loss: 1005.0027 - val_loss: 1773.7429\n",
      "Epoch 5/100\n",
      "7526/7526 [==============================] - 48s 6ms/step - loss: 590.9415 - val_loss: 802.5313\n",
      "Epoch 6/100\n",
      "7526/7526 [==============================] - 46s 6ms/step - loss: 364.1192 - val_loss: 460.8754\n",
      "Epoch 7/100\n",
      "7526/7526 [==============================] - 44s 6ms/step - loss: 269.4001 - val_loss: 324.2793\n",
      "Epoch 8/100\n",
      "7526/7526 [==============================] - 47s 6ms/step - loss: 241.1159 - val_loss: 252.2860\n",
      "Epoch 9/100\n",
      "7526/7526 [==============================] - 44s 6ms/step - loss: 233.4323 - val_loss: 200.7013\n",
      "Epoch 10/100\n",
      "7526/7526 [==============================] - 47s 6ms/step - loss: 234.3333 - val_loss: 251.8062\n",
      "Epoch 11/100\n",
      "7526/7526 [==============================] - 54s 7ms/step - loss: 230.3683 - val_loss: 213.4799\n",
      "Epoch 12/100\n",
      "7526/7526 [==============================] - 48s 6ms/step - loss: 236.6578 - val_loss: 228.8926\n",
      "Epoch 13/100\n",
      "7526/7526 [==============================] - 41s 6ms/step - loss: 235.0548 - val_loss: 179.9270\n",
      "Epoch 14/100\n",
      "7526/7526 [==============================] - 38s 5ms/step - loss: 230.4222 - val_loss: 207.3203\n",
      "Epoch 15/100\n",
      "7526/7526 [==============================] - 30s 4ms/step - loss: 230.0564 - val_loss: 176.5465\n",
      "Epoch 16/100\n",
      "7526/7526 [==============================] - 30s 4ms/step - loss: 229.0755 - val_loss: 187.8158\n",
      "Epoch 17/100\n",
      "7526/7526 [==============================] - 30s 4ms/step - loss: 232.3634 - val_loss: 221.1242\n",
      "Epoch 18/100\n",
      "7526/7526 [==============================] - 30s 4ms/step - loss: 229.0578 - val_loss: 196.4506\n",
      "Epoch 19/100\n",
      "7526/7526 [==============================] - 35s 5ms/step - loss: 234.2648 - val_loss: 240.2330\n",
      "Epoch 20/100\n",
      "7525/7526 [============================>.] - ETA: 0s - loss: 228.5928Restoring model weights from the end of the best epoch: 15.\n",
      "7526/7526 [==============================] - 43s 6ms/step - loss: 228.6179 - val_loss: 188.8773\n",
      "Epoch 20: early stopping\n"
     ]
    }
   ],
   "source": [
    "history_stacked_lstm = model_stacked_lstm2.fit(\n",
    "    X_train_scaled, y_train_TSLA, \n",
    "    epochs=100, \n",
    "    batch_size=32, \n",
    "    validation_data=(X_val_scaled, y_val_TSLA), \n",
    "    callbacks=[early_stopping, ModelCheckpoint('stacked_model2.h5', monitor='val_loss', save_best_only=True, save_weights_only=True)],\n",
    "    verbose=1\n",
    ")"
   ]
  },
  {
   "cell_type": "code",
   "execution_count": 92,
   "id": "c303ab78",
   "metadata": {},
   "outputs": [
    {
     "name": "stdout",
     "output_type": "stream",
     "text": [
      "2151/2151 [==============================] - 4s 2ms/step\n",
      "Stacked LSTM RMSE: 13.588167193659027\n"
     ]
    }
   ],
   "source": [
    "y_pred_stacked2 = model_stacked_lstm2.predict(X_test_scaled)\n",
    "rmse_stacked2 = sqrt(mean_squared_error(y_test_TSLA, y_pred_stacked2))\n",
    "print(f\"Stacked LSTM RMSE: {rmse_stacked2}\")"
   ]
  },
  {
   "cell_type": "markdown",
   "id": "55e3df02",
   "metadata": {},
   "source": [
    "# Hyperparameter Tuning of Stacked LSTM"
   ]
  },
  {
   "cell_type": "code",
   "execution_count": 222,
   "id": "b7ed1a2e",
   "metadata": {},
   "outputs": [],
   "source": [
    "def build_stacked_lstm22(units1=50, units2=50, optimizer='adam'):\n",
    "    model = Sequential()\n",
    "    model.add(LSTM(units=units1, return_sequences=True, input_shape=input_shape))\n",
    "    model.add(LSTM(units=units2, return_sequences=False))\n",
    "    model.add(Dense(1))\n",
    "    model.compile(loss='mean_squared_error', optimizer=optimizer)\n",
    "    return model"
   ]
  },
  {
   "cell_type": "code",
   "execution_count": 223,
   "id": "08a1954e",
   "metadata": {},
   "outputs": [],
   "source": [
    "model = KerasRegressor(build_fn=build_stacked_lstm22, units1=50, units2=50, optimizer='adam', batch_size=32, epochs=10)"
   ]
  },
  {
   "cell_type": "code",
   "execution_count": 224,
   "id": "622cf406",
   "metadata": {},
   "outputs": [
    {
     "name": "stderr",
     "output_type": "stream",
     "text": [
      "/Users/roshanthapa/anaconda3/lib/python3.11/site-packages/sklearn/model_selection/_search.py:305: UserWarning: The total space of parameters 8 is smaller than n_iter=10. Running 8 iterations. For exhaustive searches, use GridSearchCV.\n",
      "  warnings.warn(\n",
      "/Users/roshanthapa/anaconda3/lib/python3.11/site-packages/scikeras/wrappers.py:915: UserWarning: ``build_fn`` will be renamed to ``model`` in a future release, at which point use of ``build_fn`` will raise an Error instead.\n",
      "  X, y = self._initialize(X, y)\n"
     ]
    },
    {
     "name": "stdout",
     "output_type": "stream",
     "text": [
      "Epoch 1/10\n",
      "5017/5017 [==============================] - 18s 3ms/step - loss: 1279.4669\n",
      "Epoch 2/10\n",
      "5017/5017 [==============================] - 18s 4ms/step - loss: 159.9025\n",
      "Epoch 3/10\n",
      "5017/5017 [==============================] - 19s 4ms/step - loss: 118.3958\n",
      "Epoch 4/10\n",
      "5017/5017 [==============================] - 21s 4ms/step - loss: 114.0547\n",
      "Epoch 5/10\n",
      "5017/5017 [==============================] - 20s 4ms/step - loss: 112.3115\n",
      "Epoch 6/10\n",
      "5017/5017 [==============================] - 20s 4ms/step - loss: 111.5428\n",
      "Epoch 7/10\n",
      "5017/5017 [==============================] - 23s 5ms/step - loss: 110.9215\n",
      "Epoch 8/10\n",
      "5017/5017 [==============================] - 28s 6ms/step - loss: 110.1754\n",
      "Epoch 9/10\n",
      "5017/5017 [==============================] - 31s 6ms/step - loss: 109.7335\n",
      "Epoch 10/10\n",
      "5017/5017 [==============================] - 28s 6ms/step - loss: 109.1703\n",
      "2509/2509 [==============================] - 8s 3ms/step\n"
     ]
    },
    {
     "name": "stderr",
     "output_type": "stream",
     "text": [
      "/Users/roshanthapa/anaconda3/lib/python3.11/site-packages/scikeras/wrappers.py:915: UserWarning: ``build_fn`` will be renamed to ``model`` in a future release, at which point use of ``build_fn`` will raise an Error instead.\n",
      "  X, y = self._initialize(X, y)\n"
     ]
    },
    {
     "name": "stdout",
     "output_type": "stream",
     "text": [
      "Epoch 1/10\n",
      "5017/5017 [==============================] - 35s 6ms/step - loss: 1164.7565\n",
      "Epoch 2/10\n",
      "5017/5017 [==============================] - 33s 7ms/step - loss: 161.9291\n",
      "Epoch 3/10\n",
      "5017/5017 [==============================] - 31s 6ms/step - loss: 117.8633\n",
      "Epoch 4/10\n",
      "5017/5017 [==============================] - 29s 6ms/step - loss: 112.8626\n",
      "Epoch 5/10\n",
      "5017/5017 [==============================] - 24s 5ms/step - loss: 111.1743\n",
      "Epoch 6/10\n",
      "5017/5017 [==============================] - 27s 5ms/step - loss: 109.8640\n",
      "Epoch 7/10\n",
      "5017/5017 [==============================] - 24s 5ms/step - loss: 109.2585\n",
      "Epoch 8/10\n",
      "5017/5017 [==============================] - 25s 5ms/step - loss: 108.5626\n",
      "Epoch 9/10\n",
      "5017/5017 [==============================] - 24s 5ms/step - loss: 107.9305\n",
      "Epoch 10/10\n",
      "5017/5017 [==============================] - 25s 5ms/step - loss: 107.8995\n",
      "2509/2509 [==============================] - 7s 2ms/step\n"
     ]
    },
    {
     "name": "stderr",
     "output_type": "stream",
     "text": [
      "/Users/roshanthapa/anaconda3/lib/python3.11/site-packages/scikeras/wrappers.py:915: UserWarning: ``build_fn`` will be renamed to ``model`` in a future release, at which point use of ``build_fn`` will raise an Error instead.\n",
      "  X, y = self._initialize(X, y)\n"
     ]
    },
    {
     "name": "stdout",
     "output_type": "stream",
     "text": [
      "Epoch 1/10\n",
      "5017/5017 [==============================] - 31s 5ms/step - loss: 679.9721\n",
      "Epoch 2/10\n",
      "5017/5017 [==============================] - 26s 5ms/step - loss: 97.5314\n",
      "Epoch 3/10\n",
      "5017/5017 [==============================] - 21s 4ms/step - loss: 88.1429\n",
      "Epoch 4/10\n",
      "5017/5017 [==============================] - 24s 5ms/step - loss: 85.7439\n",
      "Epoch 5/10\n",
      "5017/5017 [==============================] - 22s 4ms/step - loss: 83.6006\n",
      "Epoch 6/10\n",
      "5017/5017 [==============================] - 26s 5ms/step - loss: 82.2409\n",
      "Epoch 7/10\n",
      "5017/5017 [==============================] - 29s 6ms/step - loss: 81.6425\n",
      "Epoch 8/10\n",
      "5017/5017 [==============================] - 30s 6ms/step - loss: 81.2126\n",
      "Epoch 9/10\n",
      "5017/5017 [==============================] - 26s 5ms/step - loss: 80.7293\n",
      "Epoch 10/10\n",
      "5017/5017 [==============================] - 37s 7ms/step - loss: 80.4170\n",
      "2509/2509 [==============================] - 8s 3ms/step\n"
     ]
    },
    {
     "name": "stderr",
     "output_type": "stream",
     "text": [
      "/Users/roshanthapa/anaconda3/lib/python3.11/site-packages/scikeras/wrappers.py:915: UserWarning: ``build_fn`` will be renamed to ``model`` in a future release, at which point use of ``build_fn`` will raise an Error instead.\n",
      "  X, y = self._initialize(X, y)\n"
     ]
    },
    {
     "name": "stdout",
     "output_type": "stream",
     "text": [
      "Epoch 1/10\n",
      "5017/5017 [==============================] - 39s 6ms/step - loss: 698.3253\n",
      "Epoch 2/10\n",
      "5017/5017 [==============================] - 28s 6ms/step - loss: 123.3685\n",
      "Epoch 3/10\n",
      "5017/5017 [==============================] - 27s 5ms/step - loss: 114.8898\n",
      "Epoch 4/10\n",
      "5017/5017 [==============================] - 31s 6ms/step - loss: 113.1349\n",
      "Epoch 5/10\n",
      "5017/5017 [==============================] - 28s 6ms/step - loss: 111.7353\n",
      "Epoch 6/10\n",
      "5017/5017 [==============================] - 29s 6ms/step - loss: 110.9294\n",
      "Epoch 7/10\n",
      "5017/5017 [==============================] - 31s 6ms/step - loss: 110.3835\n",
      "Epoch 8/10\n",
      "5017/5017 [==============================] - 32s 6ms/step - loss: 109.8049\n",
      "Epoch 9/10\n",
      "5017/5017 [==============================] - 25s 5ms/step - loss: 109.2467\n",
      "Epoch 10/10\n",
      "5017/5017 [==============================] - 24s 5ms/step - loss: 108.6972\n",
      "2509/2509 [==============================] - 6s 2ms/step\n"
     ]
    },
    {
     "name": "stderr",
     "output_type": "stream",
     "text": [
      "/Users/roshanthapa/anaconda3/lib/python3.11/site-packages/scikeras/wrappers.py:915: UserWarning: ``build_fn`` will be renamed to ``model`` in a future release, at which point use of ``build_fn`` will raise an Error instead.\n",
      "  X, y = self._initialize(X, y)\n"
     ]
    },
    {
     "name": "stdout",
     "output_type": "stream",
     "text": [
      "Epoch 1/10\n",
      "5017/5017 [==============================] - 29s 5ms/step - loss: 650.1178\n",
      "Epoch 2/10\n",
      "5017/5017 [==============================] - 32s 6ms/step - loss: 122.6195\n",
      "Epoch 3/10\n",
      "5017/5017 [==============================] - 35s 7ms/step - loss: 114.8278\n",
      "Epoch 4/10\n",
      "5017/5017 [==============================] - 27s 5ms/step - loss: 112.1903\n",
      "Epoch 5/10\n",
      "5017/5017 [==============================] - 23s 5ms/step - loss: 110.9320\n",
      "Epoch 6/10\n",
      "5017/5017 [==============================] - 24s 5ms/step - loss: 109.5998\n",
      "Epoch 7/10\n",
      "5017/5017 [==============================] - 25s 5ms/step - loss: 108.8906\n",
      "Epoch 8/10\n",
      "5017/5017 [==============================] - 24s 5ms/step - loss: 108.2372\n",
      "Epoch 9/10\n",
      "5017/5017 [==============================] - 26s 5ms/step - loss: 107.6068\n",
      "Epoch 10/10\n",
      "5017/5017 [==============================] - 28s 6ms/step - loss: 107.5420\n",
      "2509/2509 [==============================] - 6s 2ms/step\n"
     ]
    },
    {
     "name": "stderr",
     "output_type": "stream",
     "text": [
      "/Users/roshanthapa/anaconda3/lib/python3.11/site-packages/scikeras/wrappers.py:915: UserWarning: ``build_fn`` will be renamed to ``model`` in a future release, at which point use of ``build_fn`` will raise an Error instead.\n",
      "  X, y = self._initialize(X, y)\n"
     ]
    },
    {
     "name": "stdout",
     "output_type": "stream",
     "text": [
      "Epoch 1/10\n",
      "5017/5017 [==============================] - 26s 4ms/step - loss: 371.2030\n",
      "Epoch 2/10\n",
      "5017/5017 [==============================] - 23s 5ms/step - loss: 89.6010\n",
      "Epoch 3/10\n",
      "5017/5017 [==============================] - 25s 5ms/step - loss: 86.5213\n",
      "Epoch 4/10\n",
      "5017/5017 [==============================] - 23s 5ms/step - loss: 84.4431\n",
      "Epoch 5/10\n",
      "5017/5017 [==============================] - 24s 5ms/step - loss: 82.6958\n",
      "Epoch 6/10\n",
      "5017/5017 [==============================] - 23s 5ms/step - loss: 81.6678\n",
      "Epoch 7/10\n",
      "5017/5017 [==============================] - 26s 5ms/step - loss: 81.1333\n",
      "Epoch 8/10\n",
      "5017/5017 [==============================] - 24s 5ms/step - loss: 80.7072\n",
      "Epoch 9/10\n",
      "5017/5017 [==============================] - 24s 5ms/step - loss: 80.2277\n",
      "Epoch 10/10\n",
      "5017/5017 [==============================] - 28s 6ms/step - loss: 79.8921\n",
      "2509/2509 [==============================] - 7s 2ms/step\n"
     ]
    },
    {
     "name": "stderr",
     "output_type": "stream",
     "text": [
      "/Users/roshanthapa/anaconda3/lib/python3.11/site-packages/scikeras/wrappers.py:915: UserWarning: ``build_fn`` will be renamed to ``model`` in a future release, at which point use of ``build_fn`` will raise an Error instead.\n",
      "  X, y = self._initialize(X, y)\n"
     ]
    },
    {
     "name": "stdout",
     "output_type": "stream",
     "text": [
      "Epoch 1/10\n",
      "5017/5017 [==============================] - 41s 7ms/step - loss: 1297.9519\n",
      "Epoch 2/10\n",
      "5017/5017 [==============================] - 32s 6ms/step - loss: 161.9291\n",
      "Epoch 3/10\n",
      "5017/5017 [==============================] - 29s 6ms/step - loss: 118.4072\n",
      "Epoch 4/10\n",
      "5017/5017 [==============================] - 31s 6ms/step - loss: 113.5308\n",
      "Epoch 5/10\n",
      "5017/5017 [==============================] - 32s 6ms/step - loss: 111.5412\n",
      "Epoch 6/10\n",
      "5017/5017 [==============================] - 30s 6ms/step - loss: 110.7601\n",
      "Epoch 7/10\n",
      "5017/5017 [==============================] - 36s 7ms/step - loss: 110.2206\n",
      "Epoch 8/10\n",
      "5017/5017 [==============================] - 31s 6ms/step - loss: 109.4089\n",
      "Epoch 9/10\n",
      "5017/5017 [==============================] - 29s 6ms/step - loss: 109.0182\n",
      "Epoch 10/10\n",
      "5017/5017 [==============================] - 25s 5ms/step - loss: 108.3128\n",
      "2509/2509 [==============================] - 7s 2ms/step\n"
     ]
    },
    {
     "name": "stderr",
     "output_type": "stream",
     "text": [
      "/Users/roshanthapa/anaconda3/lib/python3.11/site-packages/scikeras/wrappers.py:915: UserWarning: ``build_fn`` will be renamed to ``model`` in a future release, at which point use of ``build_fn`` will raise an Error instead.\n",
      "  X, y = self._initialize(X, y)\n"
     ]
    },
    {
     "name": "stdout",
     "output_type": "stream",
     "text": [
      "Epoch 1/10\n",
      "5017/5017 [==============================] - 34s 6ms/step - loss: 1170.3850\n",
      "Epoch 2/10\n",
      "5017/5017 [==============================] - 33s 7ms/step - loss: 162.7657\n",
      "Epoch 3/10\n",
      "5017/5017 [==============================] - 31s 6ms/step - loss: 117.9606\n",
      "Epoch 4/10\n",
      "5017/5017 [==============================] - 36s 7ms/step - loss: 112.9047\n",
      "Epoch 5/10\n",
      "5017/5017 [==============================] - 36s 7ms/step - loss: 111.4750\n",
      "Epoch 6/10\n",
      "5017/5017 [==============================] - 34s 7ms/step - loss: 110.1272\n",
      "Epoch 7/10\n",
      "5017/5017 [==============================] - 35s 7ms/step - loss: 109.4430\n",
      "Epoch 8/10\n",
      "5017/5017 [==============================] - 36s 7ms/step - loss: 108.6624\n",
      "Epoch 9/10\n",
      "5017/5017 [==============================] - 32s 6ms/step - loss: 107.9247\n",
      "Epoch 10/10\n",
      "5017/5017 [==============================] - 33s 7ms/step - loss: 107.7811\n",
      "2509/2509 [==============================] - 9s 3ms/step\n"
     ]
    },
    {
     "name": "stderr",
     "output_type": "stream",
     "text": [
      "/Users/roshanthapa/anaconda3/lib/python3.11/site-packages/scikeras/wrappers.py:915: UserWarning: ``build_fn`` will be renamed to ``model`` in a future release, at which point use of ``build_fn`` will raise an Error instead.\n",
      "  X, y = self._initialize(X, y)\n"
     ]
    },
    {
     "name": "stdout",
     "output_type": "stream",
     "text": [
      "Epoch 1/10\n",
      "5017/5017 [==============================] - 40s 7ms/step - loss: 695.8823\n",
      "Epoch 2/10\n",
      "5017/5017 [==============================] - 35s 7ms/step - loss: 98.2478\n",
      "Epoch 3/10\n",
      "5017/5017 [==============================] - 30s 6ms/step - loss: 88.2430\n",
      "Epoch 4/10\n",
      "5017/5017 [==============================] - 29s 6ms/step - loss: 85.6045\n",
      "Epoch 5/10\n",
      "5017/5017 [==============================] - 32s 6ms/step - loss: 83.7005\n",
      "Epoch 6/10\n",
      "5017/5017 [==============================] - 32s 6ms/step - loss: 82.5715\n",
      "Epoch 7/10\n",
      "5017/5017 [==============================] - 33s 7ms/step - loss: 81.7875\n",
      "Epoch 8/10\n",
      "5017/5017 [==============================] - 27s 5ms/step - loss: 81.3036\n",
      "Epoch 9/10\n",
      "5017/5017 [==============================] - 33s 7ms/step - loss: 80.6315\n",
      "Epoch 10/10\n",
      "5017/5017 [==============================] - 45s 9ms/step - loss: 80.2952\n",
      "2509/2509 [==============================] - 12s 4ms/step\n"
     ]
    },
    {
     "name": "stderr",
     "output_type": "stream",
     "text": [
      "/Users/roshanthapa/anaconda3/lib/python3.11/site-packages/scikeras/wrappers.py:915: UserWarning: ``build_fn`` will be renamed to ``model`` in a future release, at which point use of ``build_fn`` will raise an Error instead.\n",
      "  X, y = self._initialize(X, y)\n"
     ]
    },
    {
     "name": "stdout",
     "output_type": "stream",
     "text": [
      "Epoch 1/10\n",
      "5017/5017 [==============================] - 63s 11ms/step - loss: 712.1467\n",
      "Epoch 2/10\n",
      "5017/5017 [==============================] - 47s 9ms/step - loss: 123.4433\n",
      "Epoch 3/10\n",
      "5017/5017 [==============================] - 50s 10ms/step - loss: 114.6560\n",
      "Epoch 4/10\n",
      "5017/5017 [==============================] - 51s 10ms/step - loss: 112.9819\n",
      "Epoch 5/10\n",
      "5017/5017 [==============================] - 45s 9ms/step - loss: 111.6726\n",
      "Epoch 6/10\n",
      "5017/5017 [==============================] - 44s 9ms/step - loss: 110.5884\n",
      "Epoch 7/10\n",
      "5017/5017 [==============================] - 44s 9ms/step - loss: 109.7221\n",
      "Epoch 8/10\n",
      "5017/5017 [==============================] - 44s 9ms/step - loss: 108.9936\n",
      "Epoch 9/10\n",
      "5017/5017 [==============================] - 44s 9ms/step - loss: 108.3145\n",
      "Epoch 10/10\n",
      "5017/5017 [==============================] - 44s 9ms/step - loss: 107.6149\n",
      "2509/2509 [==============================] - 11s 4ms/step\n"
     ]
    },
    {
     "name": "stderr",
     "output_type": "stream",
     "text": [
      "/Users/roshanthapa/anaconda3/lib/python3.11/site-packages/scikeras/wrappers.py:915: UserWarning: ``build_fn`` will be renamed to ``model`` in a future release, at which point use of ``build_fn`` will raise an Error instead.\n",
      "  X, y = self._initialize(X, y)\n"
     ]
    },
    {
     "name": "stdout",
     "output_type": "stream",
     "text": [
      "Epoch 1/10\n",
      "5017/5017 [==============================] - 50s 9ms/step - loss: 651.5170\n",
      "Epoch 2/10\n",
      "5017/5017 [==============================] - 52s 10ms/step - loss: 122.4715\n",
      "Epoch 3/10\n",
      "5017/5017 [==============================] - 49s 10ms/step - loss: 114.4333\n",
      "Epoch 4/10\n",
      "5017/5017 [==============================] - 50s 10ms/step - loss: 111.7890\n",
      "Epoch 5/10\n",
      "5017/5017 [==============================] - 50s 10ms/step - loss: 110.7393\n",
      "Epoch 6/10\n",
      "5017/5017 [==============================] - 52s 10ms/step - loss: 109.2558\n",
      "Epoch 7/10\n",
      "5017/5017 [==============================] - 51s 10ms/step - loss: 108.3859\n",
      "Epoch 8/10\n",
      "5017/5017 [==============================] - 38s 7ms/step - loss: 107.8891\n",
      "Epoch 9/10\n",
      "5017/5017 [==============================] - 36s 7ms/step - loss: 107.2581\n",
      "Epoch 10/10\n",
      "5017/5017 [==============================] - 37s 7ms/step - loss: 107.1059\n",
      "2509/2509 [==============================] - 8s 3ms/step\n"
     ]
    },
    {
     "name": "stderr",
     "output_type": "stream",
     "text": [
      "/Users/roshanthapa/anaconda3/lib/python3.11/site-packages/scikeras/wrappers.py:915: UserWarning: ``build_fn`` will be renamed to ``model`` in a future release, at which point use of ``build_fn`` will raise an Error instead.\n",
      "  X, y = self._initialize(X, y)\n"
     ]
    },
    {
     "name": "stdout",
     "output_type": "stream",
     "text": [
      "Epoch 1/10\n",
      "5017/5017 [==============================] - 44s 8ms/step - loss: 375.4100\n",
      "Epoch 2/10\n",
      "5017/5017 [==============================] - 34s 7ms/step - loss: 89.5386\n",
      "Epoch 3/10\n",
      "5017/5017 [==============================] - 39s 8ms/step - loss: 86.4025\n",
      "Epoch 4/10\n",
      "5017/5017 [==============================] - 38s 8ms/step - loss: 84.1998\n",
      "Epoch 5/10\n",
      "5017/5017 [==============================] - 36s 7ms/step - loss: 82.6643\n",
      "Epoch 6/10\n",
      "5017/5017 [==============================] - 35s 7ms/step - loss: 81.5929\n",
      "Epoch 7/10\n",
      "5017/5017 [==============================] - 36s 7ms/step - loss: 80.9284\n",
      "Epoch 8/10\n",
      "5017/5017 [==============================] - 34s 7ms/step - loss: 80.4080\n",
      "Epoch 9/10\n",
      "5017/5017 [==============================] - 33s 7ms/step - loss: 79.7305\n",
      "Epoch 10/10\n",
      "5017/5017 [==============================] - 34s 7ms/step - loss: 79.3310\n",
      "2509/2509 [==============================] - 10s 4ms/step\n"
     ]
    },
    {
     "name": "stderr",
     "output_type": "stream",
     "text": [
      "/Users/roshanthapa/anaconda3/lib/python3.11/site-packages/scikeras/wrappers.py:915: UserWarning: ``build_fn`` will be renamed to ``model`` in a future release, at which point use of ``build_fn`` will raise an Error instead.\n",
      "  X, y = self._initialize(X, y)\n"
     ]
    },
    {
     "name": "stdout",
     "output_type": "stream",
     "text": [
      "Epoch 1/10\n",
      "2509/2509 [==============================] - 21s 6ms/step - loss: 2085.4016\n",
      "Epoch 2/10\n",
      "2509/2509 [==============================] - 17s 7ms/step - loss: 429.8210\n",
      "Epoch 3/10\n",
      "2509/2509 [==============================] - 13s 5ms/step - loss: 175.8056\n",
      "Epoch 4/10\n",
      "2509/2509 [==============================] - 15s 6ms/step - loss: 128.9413\n",
      "Epoch 5/10\n",
      "2509/2509 [==============================] - 17s 7ms/step - loss: 116.5690\n",
      "Epoch 6/10\n",
      "2509/2509 [==============================] - 13s 5ms/step - loss: 113.3137\n",
      "Epoch 7/10\n",
      "2509/2509 [==============================] - 14s 6ms/step - loss: 111.9362\n",
      "Epoch 8/10\n",
      "2509/2509 [==============================] - 12s 5ms/step - loss: 111.0108\n",
      "Epoch 9/10\n",
      "2509/2509 [==============================] - 17s 7ms/step - loss: 110.4132\n",
      "Epoch 10/10\n",
      "2509/2509 [==============================] - 18s 7ms/step - loss: 109.9455\n",
      "1255/1255 [==============================] - 5s 3ms/step\n"
     ]
    },
    {
     "name": "stderr",
     "output_type": "stream",
     "text": [
      "/Users/roshanthapa/anaconda3/lib/python3.11/site-packages/scikeras/wrappers.py:915: UserWarning: ``build_fn`` will be renamed to ``model`` in a future release, at which point use of ``build_fn`` will raise an Error instead.\n",
      "  X, y = self._initialize(X, y)\n"
     ]
    },
    {
     "name": "stdout",
     "output_type": "stream",
     "text": [
      "Epoch 1/10\n",
      "2509/2509 [==============================] - 18s 6ms/step - loss: 1923.1245\n",
      "Epoch 2/10\n",
      "2509/2509 [==============================] - 12s 5ms/step - loss: 430.0025\n",
      "Epoch 3/10\n",
      "2509/2509 [==============================] - 15s 6ms/step - loss: 180.1038\n",
      "Epoch 4/10\n",
      "2509/2509 [==============================] - 21s 8ms/step - loss: 128.7218\n",
      "Epoch 5/10\n",
      "2509/2509 [==============================] - 23s 9ms/step - loss: 116.3715\n",
      "Epoch 6/10\n",
      "2509/2509 [==============================] - 24s 10ms/step - loss: 112.7899\n",
      "Epoch 7/10\n",
      "2509/2509 [==============================] - 22s 9ms/step - loss: 111.2733\n",
      "Epoch 8/10\n",
      "2509/2509 [==============================] - 19s 7ms/step - loss: 109.9877\n",
      "Epoch 9/10\n",
      "2509/2509 [==============================] - 18s 7ms/step - loss: 109.0405\n",
      "Epoch 10/10\n",
      "2509/2509 [==============================] - 17s 7ms/step - loss: 108.6533\n",
      "1255/1255 [==============================] - 6s 4ms/step\n"
     ]
    },
    {
     "name": "stderr",
     "output_type": "stream",
     "text": [
      "/Users/roshanthapa/anaconda3/lib/python3.11/site-packages/scikeras/wrappers.py:915: UserWarning: ``build_fn`` will be renamed to ``model`` in a future release, at which point use of ``build_fn`` will raise an Error instead.\n",
      "  X, y = self._initialize(X, y)\n"
     ]
    },
    {
     "name": "stdout",
     "output_type": "stream",
     "text": [
      "Epoch 1/10\n",
      "2509/2509 [==============================] - 23s 7ms/step - loss: 1130.0017\n",
      "Epoch 2/10\n",
      "2509/2509 [==============================] - 19s 8ms/step - loss: 205.2811\n",
      "Epoch 3/10\n",
      "2509/2509 [==============================] - 19s 8ms/step - loss: 99.9711\n",
      "Epoch 4/10\n",
      "2509/2509 [==============================] - 21s 9ms/step - loss: 89.2111\n",
      "Epoch 5/10\n",
      "2509/2509 [==============================] - 21s 8ms/step - loss: 87.0930\n",
      "Epoch 6/10\n",
      "2509/2509 [==============================] - 20s 8ms/step - loss: 85.4274\n",
      "Epoch 7/10\n",
      "2509/2509 [==============================] - 22s 9ms/step - loss: 83.8403\n",
      "Epoch 8/10\n",
      "2509/2509 [==============================] - 19s 8ms/step - loss: 82.9171\n",
      "Epoch 9/10\n",
      "2509/2509 [==============================] - 21s 8ms/step - loss: 82.0765\n",
      "Epoch 10/10\n",
      "2509/2509 [==============================] - 21s 8ms/step - loss: 81.3621\n",
      "1255/1255 [==============================] - 7s 5ms/step\n"
     ]
    },
    {
     "name": "stderr",
     "output_type": "stream",
     "text": [
      "/Users/roshanthapa/anaconda3/lib/python3.11/site-packages/scikeras/wrappers.py:915: UserWarning: ``build_fn`` will be renamed to ``model`` in a future release, at which point use of ``build_fn`` will raise an Error instead.\n",
      "  X, y = self._initialize(X, y)\n"
     ]
    },
    {
     "name": "stdout",
     "output_type": "stream",
     "text": [
      "Epoch 1/10\n",
      "2509/2509 [==============================] - 29s 9ms/step - loss: 1209.4185\n",
      "Epoch 2/10\n",
      "2509/2509 [==============================] - 26s 10ms/step - loss: 171.1286\n",
      "Epoch 3/10\n",
      "2509/2509 [==============================] - 27s 11ms/step - loss: 123.2132\n",
      "Epoch 4/10\n",
      "2509/2509 [==============================] - 24s 10ms/step - loss: 115.5370\n",
      "Epoch 5/10\n",
      "2509/2509 [==============================] - 23s 9ms/step - loss: 112.9142\n",
      "Epoch 6/10\n",
      "2509/2509 [==============================] - 22s 9ms/step - loss: 111.7057\n",
      "Epoch 7/10\n",
      "2509/2509 [==============================] - 24s 9ms/step - loss: 110.7538\n",
      "Epoch 8/10\n",
      "2509/2509 [==============================] - 25s 10ms/step - loss: 110.0291\n",
      "Epoch 9/10\n",
      "2509/2509 [==============================] - 24s 9ms/step - loss: 109.4296\n",
      "Epoch 10/10\n",
      "2509/2509 [==============================] - 25s 10ms/step - loss: 109.0182\n",
      "1255/1255 [==============================] - 8s 5ms/step\n"
     ]
    },
    {
     "name": "stderr",
     "output_type": "stream",
     "text": [
      "/Users/roshanthapa/anaconda3/lib/python3.11/site-packages/scikeras/wrappers.py:915: UserWarning: ``build_fn`` will be renamed to ``model`` in a future release, at which point use of ``build_fn`` will raise an Error instead.\n",
      "  X, y = self._initialize(X, y)\n"
     ]
    },
    {
     "name": "stdout",
     "output_type": "stream",
     "text": [
      "Epoch 1/10\n",
      "2509/2509 [==============================] - 35s 10ms/step - loss: 1112.8448\n",
      "Epoch 2/10\n",
      "2509/2509 [==============================] - 21s 8ms/step - loss: 174.2800\n",
      "Epoch 3/10\n",
      "2509/2509 [==============================] - 20s 8ms/step - loss: 122.4667\n",
      "Epoch 4/10\n",
      "2509/2509 [==============================] - 21s 8ms/step - loss: 115.3320\n",
      "Epoch 5/10\n",
      "2509/2509 [==============================] - 20s 8ms/step - loss: 113.3518\n",
      "Epoch 6/10\n",
      "2509/2509 [==============================] - 24s 9ms/step - loss: 111.4522\n",
      "Epoch 7/10\n",
      "2509/2509 [==============================] - 28s 11ms/step - loss: 110.2672\n",
      "Epoch 8/10\n",
      "2509/2509 [==============================] - 28s 11ms/step - loss: 109.2348\n",
      "Epoch 9/10\n",
      "2509/2509 [==============================] - 24s 10ms/step - loss: 108.4926\n",
      "Epoch 10/10\n",
      "2509/2509 [==============================] - 23s 9ms/step - loss: 108.3398\n",
      "1255/1255 [==============================] - 7s 5ms/step\n"
     ]
    },
    {
     "name": "stderr",
     "output_type": "stream",
     "text": [
      "/Users/roshanthapa/anaconda3/lib/python3.11/site-packages/scikeras/wrappers.py:915: UserWarning: ``build_fn`` will be renamed to ``model`` in a future release, at which point use of ``build_fn`` will raise an Error instead.\n",
      "  X, y = self._initialize(X, y)\n"
     ]
    },
    {
     "name": "stdout",
     "output_type": "stream",
     "text": [
      "Epoch 1/10\n",
      "2509/2509 [==============================] - 28s 9ms/step - loss: 628.0803\n",
      "Epoch 2/10\n",
      "2509/2509 [==============================] - 22s 9ms/step - loss: 101.0024\n",
      "Epoch 3/10\n",
      "2509/2509 [==============================] - 22s 9ms/step - loss: 89.4075\n",
      "Epoch 4/10\n",
      "2509/2509 [==============================] - 21s 9ms/step - loss: 86.8654\n",
      "Epoch 5/10\n",
      "2509/2509 [==============================] - 21s 8ms/step - loss: 85.1726\n",
      "Epoch 6/10\n",
      "2509/2509 [==============================] - 22s 9ms/step - loss: 83.7141\n",
      "Epoch 7/10\n",
      "2509/2509 [==============================] - 21s 8ms/step - loss: 82.7368\n",
      "Epoch 8/10\n",
      "2509/2509 [==============================] - 21s 9ms/step - loss: 82.0625\n",
      "Epoch 9/10\n",
      "2509/2509 [==============================] - 22s 9ms/step - loss: 81.3716\n",
      "Epoch 10/10\n",
      "2509/2509 [==============================] - 21s 9ms/step - loss: 80.9677\n",
      "1255/1255 [==============================] - 7s 4ms/step\n"
     ]
    },
    {
     "name": "stderr",
     "output_type": "stream",
     "text": [
      "/Users/roshanthapa/anaconda3/lib/python3.11/site-packages/scikeras/wrappers.py:915: UserWarning: ``build_fn`` will be renamed to ``model`` in a future release, at which point use of ``build_fn`` will raise an Error instead.\n",
      "  X, y = self._initialize(X, y)\n"
     ]
    },
    {
     "name": "stdout",
     "output_type": "stream",
     "text": [
      "Epoch 1/10\n",
      "2509/2509 [==============================] - 28s 9ms/step - loss: 2019.3414\n",
      "Epoch 2/10\n",
      "2509/2509 [==============================] - 27s 11ms/step - loss: 425.5389\n",
      "Epoch 3/10\n",
      "2509/2509 [==============================] - 27s 11ms/step - loss: 175.1667\n",
      "Epoch 4/10\n",
      "2509/2509 [==============================] - 25s 10ms/step - loss: 128.1487\n",
      "Epoch 5/10\n",
      "2509/2509 [==============================] - 24s 10ms/step - loss: 116.3985\n",
      "Epoch 6/10\n",
      "2509/2509 [==============================] - 24s 10ms/step - loss: 113.2778\n",
      "Epoch 7/10\n",
      "2509/2509 [==============================] - 24s 10ms/step - loss: 111.7984\n",
      "Epoch 8/10\n",
      "2509/2509 [==============================] - 25s 10ms/step - loss: 110.8577\n",
      "Epoch 9/10\n",
      "2509/2509 [==============================] - 25s 10ms/step - loss: 110.2629\n",
      "Epoch 10/10\n",
      "2509/2509 [==============================] - 26s 10ms/step - loss: 109.9620\n",
      "1255/1255 [==============================] - 9s 6ms/step\n"
     ]
    },
    {
     "name": "stderr",
     "output_type": "stream",
     "text": [
      "/Users/roshanthapa/anaconda3/lib/python3.11/site-packages/scikeras/wrappers.py:915: UserWarning: ``build_fn`` will be renamed to ``model`` in a future release, at which point use of ``build_fn`` will raise an Error instead.\n",
      "  X, y = self._initialize(X, y)\n"
     ]
    },
    {
     "name": "stdout",
     "output_type": "stream",
     "text": [
      "Epoch 1/10\n",
      "2509/2509 [==============================] - 33s 10ms/step - loss: 1905.7584\n",
      "Epoch 2/10\n",
      "2509/2509 [==============================] - 25s 10ms/step - loss: 434.6960\n",
      "Epoch 3/10\n",
      "2509/2509 [==============================] - 26s 10ms/step - loss: 181.3701\n",
      "Epoch 4/10\n",
      "2509/2509 [==============================] - 24s 10ms/step - loss: 128.9849\n",
      "Epoch 5/10\n",
      "2509/2509 [==============================] - 23s 9ms/step - loss: 116.3432\n",
      "Epoch 6/10\n",
      "2509/2509 [==============================] - 23s 9ms/step - loss: 112.4286\n",
      "Epoch 7/10\n",
      "2509/2509 [==============================] - 23s 9ms/step - loss: 110.9278\n",
      "Epoch 8/10\n",
      "2509/2509 [==============================] - 22s 9ms/step - loss: 109.7117\n",
      "Epoch 9/10\n",
      "2509/2509 [==============================] - 23s 9ms/step - loss: 108.9983\n",
      "Epoch 10/10\n",
      "2509/2509 [==============================] - 23s 9ms/step - loss: 108.8293\n",
      "1255/1255 [==============================] - 7s 5ms/step\n"
     ]
    },
    {
     "name": "stderr",
     "output_type": "stream",
     "text": [
      "/Users/roshanthapa/anaconda3/lib/python3.11/site-packages/scikeras/wrappers.py:915: UserWarning: ``build_fn`` will be renamed to ``model`` in a future release, at which point use of ``build_fn`` will raise an Error instead.\n",
      "  X, y = self._initialize(X, y)\n"
     ]
    },
    {
     "name": "stdout",
     "output_type": "stream",
     "text": [
      "Epoch 1/10\n",
      "2509/2509 [==============================] - 29s 9ms/step - loss: 1110.6179\n",
      "Epoch 2/10\n",
      "2509/2509 [==============================] - 22s 9ms/step - loss: 205.2909\n",
      "Epoch 3/10\n",
      "2509/2509 [==============================] - 23s 9ms/step - loss: 99.9732\n",
      "Epoch 4/10\n",
      "2509/2509 [==============================] - 23s 9ms/step - loss: 89.0063\n",
      "Epoch 5/10\n",
      "2509/2509 [==============================] - 23s 9ms/step - loss: 86.7950\n",
      "Epoch 6/10\n",
      "2509/2509 [==============================] - 23s 9ms/step - loss: 85.2539\n",
      "Epoch 7/10\n",
      "2509/2509 [==============================] - 23s 9ms/step - loss: 83.7190\n",
      "Epoch 8/10\n",
      "2509/2509 [==============================] - 24s 9ms/step - loss: 82.9341\n",
      "Epoch 9/10\n",
      "2509/2509 [==============================] - 23s 9ms/step - loss: 82.2578\n",
      "Epoch 10/10\n",
      "2509/2509 [==============================] - 23s 9ms/step - loss: 81.7177\n",
      "1255/1255 [==============================] - 7s 5ms/step\n"
     ]
    },
    {
     "name": "stderr",
     "output_type": "stream",
     "text": [
      "/Users/roshanthapa/anaconda3/lib/python3.11/site-packages/scikeras/wrappers.py:915: UserWarning: ``build_fn`` will be renamed to ``model`` in a future release, at which point use of ``build_fn`` will raise an Error instead.\n",
      "  X, y = self._initialize(X, y)\n"
     ]
    },
    {
     "name": "stdout",
     "output_type": "stream",
     "text": [
      "Epoch 1/10\n",
      "2509/2509 [==============================] - 33s 11ms/step - loss: 1199.5088\n",
      "Epoch 2/10\n",
      "2509/2509 [==============================] - 28s 11ms/step - loss: 172.1975\n",
      "Epoch 3/10\n",
      "2509/2509 [==============================] - 29s 12ms/step - loss: 122.6565\n",
      "Epoch 4/10\n",
      "2509/2509 [==============================] - 31s 12ms/step - loss: 115.0912\n",
      "Epoch 5/10\n",
      "2509/2509 [==============================] - 32s 13ms/step - loss: 112.6652\n",
      "Epoch 6/10\n",
      "2509/2509 [==============================] - 28s 11ms/step - loss: 111.6228\n",
      "Epoch 7/10\n",
      "2509/2509 [==============================] - 27s 11ms/step - loss: 110.7853\n",
      "Epoch 8/10\n",
      "2509/2509 [==============================] - 26s 10ms/step - loss: 110.0603\n",
      "Epoch 9/10\n",
      "2509/2509 [==============================] - 26s 10ms/step - loss: 109.4869\n",
      "Epoch 10/10\n",
      "2509/2509 [==============================] - 31s 12ms/step - loss: 109.0575\n",
      "1255/1255 [==============================] - 8s 5ms/step\n"
     ]
    },
    {
     "name": "stderr",
     "output_type": "stream",
     "text": [
      "/Users/roshanthapa/anaconda3/lib/python3.11/site-packages/scikeras/wrappers.py:915: UserWarning: ``build_fn`` will be renamed to ``model`` in a future release, at which point use of ``build_fn`` will raise an Error instead.\n",
      "  X, y = self._initialize(X, y)\n"
     ]
    },
    {
     "name": "stdout",
     "output_type": "stream",
     "text": [
      "Epoch 1/10\n",
      "2509/2509 [==============================] - 31s 10ms/step - loss: 1116.7705\n",
      "Epoch 2/10\n",
      "2509/2509 [==============================] - 25s 10ms/step - loss: 176.3214\n",
      "Epoch 3/10\n",
      "2509/2509 [==============================] - 25s 10ms/step - loss: 122.2883\n",
      "Epoch 4/10\n",
      "2509/2509 [==============================] - 25s 10ms/step - loss: 114.5222\n",
      "Epoch 5/10\n",
      "2509/2509 [==============================] - 25s 10ms/step - loss: 112.4734\n",
      "Epoch 6/10\n",
      "2509/2509 [==============================] - 25s 10ms/step - loss: 110.6550\n",
      "Epoch 7/10\n",
      "2509/2509 [==============================] - 25s 10ms/step - loss: 109.7693\n",
      "Epoch 8/10\n",
      "2509/2509 [==============================] - 26s 10ms/step - loss: 108.8135\n",
      "Epoch 9/10\n",
      "2509/2509 [==============================] - 26s 10ms/step - loss: 108.2305\n",
      "Epoch 10/10\n",
      "2509/2509 [==============================] - 25s 10ms/step - loss: 107.9892\n",
      "1255/1255 [==============================] - 9s 6ms/step\n"
     ]
    },
    {
     "name": "stderr",
     "output_type": "stream",
     "text": [
      "/Users/roshanthapa/anaconda3/lib/python3.11/site-packages/scikeras/wrappers.py:915: UserWarning: ``build_fn`` will be renamed to ``model`` in a future release, at which point use of ``build_fn`` will raise an Error instead.\n",
      "  X, y = self._initialize(X, y)\n"
     ]
    },
    {
     "name": "stdout",
     "output_type": "stream",
     "text": [
      "Epoch 1/10\n",
      "2509/2509 [==============================] - 32s 10ms/step - loss: 629.4056\n",
      "Epoch 2/10\n",
      "2509/2509 [==============================] - 27s 11ms/step - loss: 101.1480\n",
      "Epoch 3/10\n",
      "2509/2509 [==============================] - 26s 10ms/step - loss: 89.4828\n",
      "Epoch 4/10\n",
      "2509/2509 [==============================] - 25s 10ms/step - loss: 86.7580\n",
      "Epoch 5/10\n",
      "2509/2509 [==============================] - 26s 10ms/step - loss: 84.8426\n",
      "Epoch 6/10\n",
      "2509/2509 [==============================] - 25s 10ms/step - loss: 83.3675\n",
      "Epoch 7/10\n",
      "2509/2509 [==============================] - 27s 11ms/step - loss: 82.4368\n",
      "Epoch 8/10\n",
      "2509/2509 [==============================] - 25s 10ms/step - loss: 81.9938\n",
      "Epoch 9/10\n",
      "2509/2509 [==============================] - 18s 7ms/step - loss: 81.3129\n",
      "Epoch 10/10\n",
      "2509/2509 [==============================] - 18s 7ms/step - loss: 80.9573\n",
      "1255/1255 [==============================] - 4s 3ms/step\n"
     ]
    },
    {
     "name": "stderr",
     "output_type": "stream",
     "text": [
      "/Users/roshanthapa/anaconda3/lib/python3.11/site-packages/scikeras/wrappers.py:915: UserWarning: ``build_fn`` will be renamed to ``model`` in a future release, at which point use of ``build_fn`` will raise an Error instead.\n",
      "  X, y = self._initialize(X, y)\n"
     ]
    },
    {
     "name": "stdout",
     "output_type": "stream",
     "text": [
      "Epoch 1/10\n",
      "7526/7526 [==============================] - 47s 6ms/step - loss: 436.4933\n",
      "Epoch 2/10\n",
      "7526/7526 [==============================] - 44s 6ms/step - loss: 109.1374\n",
      "Epoch 3/10\n",
      "7526/7526 [==============================] - 45s 6ms/step - loss: 104.5792\n",
      "Epoch 4/10\n",
      "7526/7526 [==============================] - 45s 6ms/step - loss: 102.4974\n",
      "Epoch 5/10\n",
      "7526/7526 [==============================] - 50s 7ms/step - loss: 101.1143\n",
      "Epoch 6/10\n",
      "7526/7526 [==============================] - 59s 8ms/step - loss: 100.2833\n",
      "Epoch 7/10\n",
      "7526/7526 [==============================] - 46s 6ms/step - loss: 99.5791\n",
      "Epoch 8/10\n",
      "7526/7526 [==============================] - 47s 6ms/step - loss: 99.1138\n",
      "Epoch 9/10\n",
      "7526/7526 [==============================] - 45s 6ms/step - loss: 98.7788\n",
      "Epoch 10/10\n",
      "7526/7526 [==============================] - 46s 6ms/step - loss: 98.3722\n",
      "Best: 0.927579 using {'units2': 100, 'units1': 100, 'epochs': 10, 'batch_size': 32}\n"
     ]
    }
   ],
   "source": [
    "# Define the hyperparameter space to search\n",
    "param_dist = {\n",
    "    'units1': [50, 100],\n",
    "    'units2': [50, 100],\n",
    "    'batch_size': [32, 64],\n",
    "    'epochs': [10]\n",
    "}\n",
    "\n",
    "# Set up RandomizedSearchCV\n",
    "random_search = RandomizedSearchCV(estimator=model, param_distributions=param_dist, n_iter=10, cv=3)\n",
    "random_search_result = random_search.fit(X_train_scaled, y_train_TSLA)\n",
    "\n",
    "# Summary\n",
    "print(\"Best: %f using %s\" % (random_search_result.best_score_, random_search_result.best_params_))\n"
   ]
  },
  {
   "cell_type": "markdown",
   "id": "07948769",
   "metadata": {},
   "source": [
    "# Test Final Model "
   ]
  },
  {
   "cell_type": "code",
   "execution_count": 236,
   "id": "5bf56e31",
   "metadata": {},
   "outputs": [],
   "source": [
    "# Define a model with LSTM and GRU layers combined\n",
    "def create_lstm_tuned(input_shape):\n",
    "    model = Sequential()\n",
    "    model.add(LSTM(100, return_sequences=True, input_shape=input_shape))\n",
    "    model.add(LSTM(100, return_sequences=False))\n",
    "    model.add(Dense(1))\n",
    "    model.compile(optimizer='adam', loss='mean_squared_error')\n",
    "    return model\n",
    "\n",
    "model_lstm_tuned = create_lstm_tuned(input_shape)"
   ]
  },
  {
   "cell_type": "markdown",
   "id": "59c78359",
   "metadata": {},
   "source": [
    "# Test Final 2-layer Stacked LSTM Model on TSLA data"
   ]
  },
  {
   "cell_type": "code",
   "execution_count": 249,
   "id": "4f257718",
   "metadata": {},
   "outputs": [
    {
     "name": "stdout",
     "output_type": "stream",
     "text": [
      "Epoch 1/100\n",
      "7526/7526 [==============================] - 59s 7ms/step - loss: 435.7506 - val_loss: 293.9178\n",
      "Epoch 2/100\n",
      "7526/7526 [==============================] - 58s 8ms/step - loss: 109.5925 - val_loss: 210.8950\n",
      "Epoch 3/100\n",
      "7526/7526 [==============================] - 52s 7ms/step - loss: 105.0648 - val_loss: 200.9371\n",
      "Epoch 4/100\n",
      "7526/7526 [==============================] - 54s 7ms/step - loss: 102.7095 - val_loss: 212.4705\n",
      "Epoch 5/100\n",
      "7526/7526 [==============================] - 54s 7ms/step - loss: 101.1258 - val_loss: 204.8566\n",
      "Epoch 6/100\n",
      "7526/7526 [==============================] - 67s 9ms/step - loss: 100.2144 - val_loss: 197.1720\n",
      "Epoch 7/100\n",
      "7526/7526 [==============================] - 65s 9ms/step - loss: 99.5709 - val_loss: 192.1738\n",
      "Epoch 8/100\n",
      "7526/7526 [==============================] - 67s 9ms/step - loss: 98.9854 - val_loss: 226.7797\n",
      "Epoch 9/100\n",
      "7526/7526 [==============================] - 53s 7ms/step - loss: 98.6504 - val_loss: 187.0630\n",
      "Epoch 10/100\n",
      "7526/7526 [==============================] - 47s 6ms/step - loss: 98.1758 - val_loss: 171.5418\n",
      "Epoch 11/100\n",
      "7526/7526 [==============================] - 47s 6ms/step - loss: 97.6740 - val_loss: 197.7629\n",
      "Epoch 12/100\n",
      "7526/7526 [==============================] - 46s 6ms/step - loss: 97.3835 - val_loss: 186.6938\n",
      "Epoch 13/100\n",
      "7526/7526 [==============================] - 47s 6ms/step - loss: 97.1527 - val_loss: 177.8046\n",
      "Epoch 14/100\n",
      "7526/7526 [==============================] - 47s 6ms/step - loss: 96.5228 - val_loss: 183.9906\n",
      "Epoch 15/100\n",
      "7526/7526 [==============================] - 48s 6ms/step - loss: 96.5073 - val_loss: 179.3017\n",
      "Epoch 16/100\n",
      "7526/7526 [==============================] - 54s 7ms/step - loss: 96.3284 - val_loss: 175.4835\n",
      "Epoch 17/100\n",
      "7526/7526 [==============================] - 62s 8ms/step - loss: 95.4418 - val_loss: 187.7911\n",
      "Epoch 18/100\n",
      "7526/7526 [==============================] - 58s 8ms/step - loss: 95.2683 - val_loss: 217.0078\n",
      "Epoch 19/100\n",
      "7526/7526 [==============================] - 58s 8ms/step - loss: 95.0124 - val_loss: 202.0491\n",
      "Epoch 20/100\n",
      "7525/7526 [============================>.] - ETA: 0s - loss: 94.9099Restoring model weights from the end of the best epoch: 10.\n",
      "7526/7526 [==============================] - 63s 8ms/step - loss: 94.9091 - val_loss: 181.7012\n",
      "Epoch 20: early stopping\n"
     ]
    }
   ],
   "source": [
    "model_lstm_tuned_TSLA = create_lstm_tuned(input_shape)\n",
    "\n",
    "history_lstm_tuned_TSLA = model_lstm_tuned_TSLA.fit(\n",
    "    X_train_scaled, y_train_TSLA, \n",
    "    epochs=100, \n",
    "    batch_size=32, \n",
    "    validation_data=(X_val_scaled, y_val_TSLA), \n",
    "    callbacks=[early_stopping, ModelCheckpoint('TSLA_tuned_lstm_model.h5', monitor='val_loss', save_best_only=True, save_weights_only=True)],\n",
    "    verbose=1\n",
    ")"
   ]
  },
  {
   "cell_type": "code",
   "execution_count": 250,
   "id": "03277f2f",
   "metadata": {},
   "outputs": [
    {
     "name": "stdout",
     "output_type": "stream",
     "text": [
      "2151/2151 [==============================] - 8s 3ms/step\n",
      "Tuned LSTM RMSE: 13.210413221934655\n"
     ]
    }
   ],
   "source": [
    "y_pred_lstm_tuned_TSLA = model_lstm_tuned_TSLA.predict(X_test_scaled)\n",
    "rmse_lstm_tuned_TSLA = sqrt(mean_squared_error(y_test_TSLA, y_pred_lstm_tuned_TSLA))\n",
    "print(f\"Tuned LSTM RMSE : {rmse_lstm_tuned_TSLA}\")"
   ]
  },
  {
   "cell_type": "markdown",
   "id": "124d32bb",
   "metadata": {},
   "source": [
    "# Test Final 2-layer Stacked LSTM Model on AAPL data"
   ]
  },
  {
   "cell_type": "code",
   "execution_count": 245,
   "id": "be417211",
   "metadata": {},
   "outputs": [
    {
     "name": "stdout",
     "output_type": "stream",
     "text": [
      "Epoch 1/50\n",
      "3730/3730 [==============================] - 20s 5ms/step - loss: 9.7750 - val_loss: 45.1290\n",
      "Epoch 2/50\n",
      "3730/3730 [==============================] - 27s 7ms/step - loss: 9.6908 - val_loss: 36.0389\n",
      "Epoch 3/50\n",
      "3730/3730 [==============================] - 32s 9ms/step - loss: 9.6746 - val_loss: 35.9127\n",
      "Epoch 4/50\n",
      "3730/3730 [==============================] - 30s 8ms/step - loss: 9.5545 - val_loss: 38.3110\n",
      "Epoch 5/50\n",
      "3730/3730 [==============================] - 30s 8ms/step - loss: 9.5222 - val_loss: 57.4116\n",
      "Epoch 6/50\n",
      "3730/3730 [==============================] - 31s 8ms/step - loss: 9.4997 - val_loss: 35.9292\n",
      "Epoch 7/50\n",
      "3730/3730 [==============================] - 29s 8ms/step - loss: 9.4779 - val_loss: 36.9885\n",
      "Epoch 8/50\n",
      "3730/3730 [==============================] - 33s 9ms/step - loss: 9.4287 - val_loss: 38.3482\n",
      "Epoch 9/50\n",
      "3730/3730 [==============================] - 32s 9ms/step - loss: 9.3649 - val_loss: 42.9529\n",
      "Epoch 10/50\n",
      "3730/3730 [==============================] - 33s 9ms/step - loss: 9.3021 - val_loss: 42.1839\n",
      "Epoch 11/50\n",
      "3730/3730 [==============================] - 27s 7ms/step - loss: 9.2859 - val_loss: 36.0943\n",
      "Epoch 12/50\n",
      "3730/3730 [==============================] - 29s 8ms/step - loss: 9.2230 - val_loss: 35.5414\n",
      "Epoch 13/50\n",
      "3730/3730 [==============================] - 30s 8ms/step - loss: 9.2017 - val_loss: 35.4917\n",
      "Epoch 14/50\n",
      "3730/3730 [==============================] - 27s 7ms/step - loss: 9.1167 - val_loss: 35.6200\n",
      "Epoch 15/50\n",
      "3730/3730 [==============================] - 28s 7ms/step - loss: 9.0381 - val_loss: 35.5972\n",
      "Epoch 16/50\n",
      "3730/3730 [==============================] - 26s 7ms/step - loss: 8.9942 - val_loss: 34.2563\n",
      "Epoch 17/50\n",
      "3730/3730 [==============================] - 27s 7ms/step - loss: 8.8900 - val_loss: 37.3307\n",
      "Epoch 18/50\n",
      "3730/3730 [==============================] - 27s 7ms/step - loss: 8.8290 - val_loss: 34.6241\n",
      "Epoch 19/50\n",
      "3730/3730 [==============================] - 28s 8ms/step - loss: 8.7813 - val_loss: 36.0217\n",
      "Epoch 20/50\n",
      "3730/3730 [==============================] - 28s 8ms/step - loss: 8.6894 - val_loss: 38.3884\n",
      "Epoch 21/50\n",
      "3730/3730 [==============================] - 31s 8ms/step - loss: 8.6841 - val_loss: 40.2061\n",
      "Epoch 22/50\n",
      "3730/3730 [==============================] - 30s 8ms/step - loss: 8.5914 - val_loss: 34.3647\n",
      "Epoch 23/50\n",
      "3730/3730 [==============================] - 29s 8ms/step - loss: 8.5079 - val_loss: 34.9114\n",
      "Epoch 24/50\n",
      "3730/3730 [==============================] - 26s 7ms/step - loss: 8.4107 - val_loss: 36.0498\n",
      "Epoch 25/50\n",
      "3730/3730 [==============================] - 27s 7ms/step - loss: 8.3897 - val_loss: 35.9657\n",
      "Epoch 26/50\n",
      "3729/3730 [============================>.] - ETA: 0s - loss: 8.2879Restoring model weights from the end of the best epoch: 16.\n",
      "3730/3730 [==============================] - 28s 7ms/step - loss: 8.2872 - val_loss: 35.5830\n",
      "Epoch 26: early stopping\n"
     ]
    }
   ],
   "source": [
    "history_lstm_tuned = model_lstm_tuned.fit(\n",
    "    X_train_scaled_AAPL, y_train_AAPL, \n",
    "    epochs=50, \n",
    "    batch_size=32, \n",
    "    validation_data=(X_val_scaled_AAPL, y_val_AAPL), \n",
    "    callbacks=[early_stopping, ModelCheckpoint('AAPL_tuned_lstm_model.h5', monitor='val_loss', save_best_only=True, save_weights_only=True)],\n",
    "    verbose=1\n",
    ")"
   ]
  },
  {
   "cell_type": "code",
   "execution_count": 255,
   "id": "06f76380",
   "metadata": {},
   "outputs": [
    {
     "name": "stdout",
     "output_type": "stream",
     "text": [
      "1066/1066 [==============================] - 2s 2ms/step\n",
      "Tuned LSTM RSME: 4.541167602601583\n"
     ]
    }
   ],
   "source": [
    "y_pred_lstm_AAPL = model_lstm_tuned.predict(X_test_scaled_AAPL)\n",
    "rmse_lstm_AAPL = sqrt(mean_squared_error(y_test_AAPL, y_pred_lstm_AAPL))\n",
    "print(f\"Tuned LSTM RSME: {rmse_lstm_AAPL}\")"
   ]
  },
  {
   "cell_type": "markdown",
   "id": "27ab604e",
   "metadata": {},
   "source": [
    "# Test Final 2-layer Stacked LSTM Model on NVDA data"
   ]
  },
  {
   "cell_type": "code",
   "execution_count": 251,
   "id": "93c94f9b",
   "metadata": {},
   "outputs": [
    {
     "name": "stdout",
     "output_type": "stream",
     "text": [
      "Epoch 1/100\n",
      "6708/6708 [==============================] - 60s 8ms/step - loss: 2152.7844 - val_loss: 1141.0237\n",
      "Epoch 2/100\n",
      "6708/6708 [==============================] - 61s 9ms/step - loss: 447.4583 - val_loss: 893.8883\n",
      "Epoch 3/100\n",
      "6708/6708 [==============================] - 49s 7ms/step - loss: 424.5388 - val_loss: 884.5345\n",
      "Epoch 4/100\n",
      "6708/6708 [==============================] - 49s 7ms/step - loss: 409.8380 - val_loss: 772.1609\n",
      "Epoch 5/100\n",
      "6708/6708 [==============================] - 47s 7ms/step - loss: 399.4067 - val_loss: 686.3756\n",
      "Epoch 6/100\n",
      "6708/6708 [==============================] - 45s 7ms/step - loss: 394.0456 - val_loss: 690.2210\n",
      "Epoch 7/100\n",
      "6708/6708 [==============================] - 49s 7ms/step - loss: 390.3109 - val_loss: 700.6498\n",
      "Epoch 8/100\n",
      "6708/6708 [==============================] - 42s 6ms/step - loss: 386.9608 - val_loss: 682.2632\n",
      "Epoch 9/100\n",
      "6708/6708 [==============================] - 51s 8ms/step - loss: 384.5187 - val_loss: 607.8948\n",
      "Epoch 10/100\n",
      "6708/6708 [==============================] - 43s 6ms/step - loss: 382.7061 - val_loss: 651.9898\n",
      "Epoch 11/100\n",
      "6708/6708 [==============================] - 41s 6ms/step - loss: 381.0380 - val_loss: 713.5615\n",
      "Epoch 12/100\n",
      "6708/6708 [==============================] - 41s 6ms/step - loss: 379.1414 - val_loss: 744.7725\n",
      "Epoch 13/100\n",
      "6708/6708 [==============================] - 44s 7ms/step - loss: 377.1499 - val_loss: 846.6371\n",
      "Epoch 14/100\n",
      "6708/6708 [==============================] - 44s 7ms/step - loss: 374.9242 - val_loss: 871.1517\n",
      "Epoch 15/100\n",
      "6708/6708 [==============================] - 47s 7ms/step - loss: 375.0041 - val_loss: 701.7303\n",
      "Epoch 16/100\n",
      "6708/6708 [==============================] - 41s 6ms/step - loss: 372.4928 - val_loss: 639.7570\n",
      "Epoch 17/100\n",
      "6708/6708 [==============================] - 51s 8ms/step - loss: 371.1082 - val_loss: 652.4001\n",
      "Epoch 18/100\n",
      "6708/6708 [==============================] - 45s 7ms/step - loss: 368.4366 - val_loss: 654.4166\n",
      "Epoch 19/100\n",
      "6701/6708 [============================>.] - ETA: 0s - loss: 365.4911Restoring model weights from the end of the best epoch: 9.\n",
      "6708/6708 [==============================] - 44s 7ms/step - loss: 365.4649 - val_loss: 643.1292\n",
      "Epoch 19: early stopping\n"
     ]
    }
   ],
   "source": [
    "model_lstm_tuned_NVDA = create_lstm_tuned(input_shape)\n",
    "\n",
    "history_lstm_tuned_NVDA= model_lstm_tuned_NVDA.fit(\n",
    "    X_train_scaled_NVDA, y_train_NVDA, \n",
    "    epochs=100, \n",
    "    batch_size=32, \n",
    "    validation_data=(X_val_scaled_NVDA, y_val_NVDA), \n",
    "    callbacks=[early_stopping, ModelCheckpoint('NVDA_tuned_lstm_model.h5', monitor='val_loss', save_best_only=True, save_weights_only=True)],\n",
    "    verbose=1\n",
    ")"
   ]
  },
  {
   "cell_type": "code",
   "execution_count": 252,
   "id": "3b35d9e9",
   "metadata": {},
   "outputs": [
    {
     "name": "stdout",
     "output_type": "stream",
     "text": [
      "1917/1917 [==============================] - 6s 3ms/step\n",
      "Tuned LSTM RSME: 25.39253693104007\n"
     ]
    }
   ],
   "source": [
    "y_pred_lstm_NVDA = model_lstm_tuned_NVDA.predict(X_test_scaled_NVDA)\n",
    "rmse_lstm_NVDA = sqrt(mean_squared_error(y_test_NVDA, y_pred_lstm_NVDA))\n",
    "print(f\"Tuned LSTM RSME: {rmse_lstm_NVDA}\")"
   ]
  },
  {
   "cell_type": "markdown",
   "id": "50072a2d",
   "metadata": {},
   "source": [
    "# Visualising Losses"
   ]
  },
  {
   "cell_type": "code",
   "execution_count": 253,
   "id": "cbb79cc6",
   "metadata": {},
   "outputs": [
    {
     "data": {
      "image/png": "[encoded data removed]",
      "text/plain": [
       "<Figure size 800x500 with 1 Axes>"
      ]
     },
     "metadata": {},
     "output_type": "display_data"
    },
    {
     "data": {
      "image/png": "[encoded data removed]",
      "text/plain": [
       "<Figure size 800x500 with 1 Axes>"
      ]
     },
     "metadata": {},
     "output_type": "display_data"
    },
    {
     "data": {
      "image/png": "[encoded data removed]",
      "text/plain": [
       "<Figure size 800x500 with 1 Axes>"
      ]
     },
     "metadata": {},
     "output_type": "display_data"
    }
   ],
   "source": [
    "# Now, we can check the history object to monitor training and validation loss\n",
    "# Plotting the training history can help us see the performance over epochs\n",
    "\n",
    "def plot_history(history, title):\n",
    "    plt.figure(figsize=(8,5))\n",
    "    plt.plot(history.history['loss'], label='train_loss')\n",
    "    plt.plot(history.history['val_loss'], label='val_loss')\n",
    "    plt.title(title)\n",
    "    plt.ylabel('Loss')\n",
    "    plt.xlabel('Epoch')\n",
    "    plt.legend()\n",
    "    plt.show()\n",
    "\n",
    "# Plot the training history for each model\n",
    "plot_history(history_lstm_tuned_NVDA, 'LSTM Training and Validation Loss on NVDA')\n",
    "plot_history(history_lstm_tuned, 'LSTM Training and Validation Loss on AAPL')\n",
    "plot_history(history_lstm_tuned_TSLA, 'LSTM Training and Validation Loss on TSLA')"
   ]
  },
  {
   "cell_type": "code",
   "execution_count": null,
   "id": "aeff4ce2",
   "metadata": {},
   "outputs": [],
   "source": []
  }
 ],
 "metadata": {
  "kernelspec": {
   "display_name": "Python 3 (ipykernel)",
   "language": "python",
   "name": "python3"
  },
  "language_info": {
   "codemirror_mode": {
    "name": "ipython",
    "version": 3
   },
   "file_extension": ".py",
   "mimetype": "text/x-python",
   "name": "python",
   "nbconvert_exporter": "python",
   "pygments_lexer": "ipython3",
   "version": "3.11.4"
  }
 },
 "nbformat": 4,
 "nbformat_minor": 5
}
